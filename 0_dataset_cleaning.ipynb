{
 "cells": [
  {
   "cell_type": "markdown",
   "metadata": {},
   "source": [
    "# Dataset Cleaning\n",
    "\n",
    "<table align=\"left\">\n",
    "  <td>\n",
    "    <a href=\"https://colab.research.google.com/github/mbarbetti/lymphoma-classification/blob/master/0_dataset_cleaning.ipynb\" target=\"_parent\"><img src=\"https://colab.research.google.com/assets/colab-badge.svg\" alt=\"Open In Colab\"/></a>\n",
    "  </td>\n",
    "  <td>\n",
    "    <a target=\"_blank\" href=\"https://kaggle.com/kernels/welcome?src=https://github.com/mbarbetti/lymphoma-classification/blob/master/0_dataset_cleaning.ipynb\"><img src=\"https://kaggle.com/static/images/open-in-kaggle.svg\" /></a>\n",
    "  </td>\n",
    "</table>"
   ]
  },
  {
   "cell_type": "code",
   "execution_count": 1,
   "metadata": {},
   "outputs": [],
   "source": [
    "import os\n",
    "import pandas as pd\n",
    "\n",
    "data_dir  = \"./data\"\n",
    "data_file = \"Database_Emato_mediastinalbulky_anonimized.csv\"\n",
    "file_path = os.path.join ( data_dir, data_file )\n",
    "\n",
    "data = pd . read_csv ( file_path, sep = \";\", header = 0 )"
   ]
  },
  {
   "cell_type": "markdown",
   "metadata": {},
   "source": [
    "## Data adjustment\n",
    "\n",
    "- empty rows at the end of the database removed\n",
    "- columns with no clear contents dropped\n",
    "  - `PARAMS_IntensityResampling`\n",
    "  - `PARAMS_BoundsRangeOfValueAfterDiscretisation(SUVbw)`\n",
    "  - `CHECK_Cluster(s)ToSmall`\n",
    "- data format for dates and float number fixed\n",
    "- age information recovered"
   ]
  },
  {
   "cell_type": "code",
   "execution_count": 2,
   "metadata": {},
   "outputs": [],
   "source": [
    "data . dropna ( subset = [\"ID\"], inplace = True )   # remove empty rows"
   ]
  },
  {
   "cell_type": "code",
   "execution_count": 3,
   "metadata": {},
   "outputs": [],
   "source": [
    "## data content not clear\n",
    "cols_to_drop = [\n",
    "  \"PARAMS_IntensityResampling\", \n",
    "  \"PARAMS_BoundsRangeOfValueAfterDiscretisation(SUVbw)\", \n",
    "  \"CHECK_Cluster(s)ToSmall\"\n",
    "]\n",
    "\n",
    "data . drop ( labels = cols_to_drop, axis = 1, inplace = True )"
   ]
  },
  {
   "cell_type": "code",
   "execution_count": 4,
   "metadata": {},
   "outputs": [],
   "source": [
    "from utils import data_cleaning\n",
    "\n",
    "## fixing date format\n",
    "for cname in [ \"Data nascita\", \"dPET staging\" ]:\n",
    "  data_cleaning ( data, col_name = cname, target_type = \"date\", inplace = True )\n",
    "\n",
    "## fixing float number format\n",
    "cols = list ( data.columns [2:] )\n",
    "for cname in cols:\n",
    "  data_cleaning ( data, col_name = cname, target_type = \"float\", inplace = True )"
   ]
  },
  {
   "cell_type": "code",
   "execution_count": 5,
   "metadata": {},
   "outputs": [],
   "source": [
    "age = list()\n",
    "\n",
    "for i in range ( len(data) ):\n",
    "  age . append ( data[\"dPET staging\"][i].year - data[\"Data nascita\"][i].year )\n",
    "\n",
    "data[\"age\"] = age   # add age information\n",
    "\n",
    "data . drop ( labels = [\"Data nascita\", \"dPET staging\"], axis = 1, inplace = True )\n"
   ]
  },
  {
   "cell_type": "markdown",
   "metadata": {},
   "source": [
    "## Data renaming\n",
    "\n",
    "- label column renamed to `lymphoma_type`\n",
    "  - `lymphoma_type = 1.0` --> HL\n",
    "  - `lymphoma_type = 2.0` --> GZ\n",
    "  - `lymphoma_type = 3.0` --> PML\n",
    "- `age` feature moved to the third column"
   ]
  },
  {
   "cell_type": "code",
   "execution_count": 8,
   "metadata": {},
   "outputs": [],
   "source": [
    "cols = list ( data.columns )\n",
    "cols[1] = \"lymphoma_type\"\n",
    "data . columns = cols\n",
    "\n",
    "cols . remove ( \"age\" )\n",
    "cols = cols[:2] + [\"age\"] + cols[2:]\n",
    "\n",
    "data = data[cols]"
   ]
  },
  {
   "cell_type": "markdown",
   "metadata": {},
   "source": [
    "## NaN filter"
   ]
  },
  {
   "cell_type": "markdown",
   "metadata": {},
   "source": [
    "**Result:** The NaN values are replaced by the means along the columns."
   ]
  },
  {
   "cell_type": "code",
   "execution_count": 12,
   "metadata": {},
   "outputs": [],
   "source": [
    "for col in data.columns:\n",
    "  mean_value = data[col] . mean()   # mean value\n",
    "  data[col] . fillna ( value = mean_value, inplace = True )"
   ]
  },
  {
   "cell_type": "markdown",
   "metadata": {},
   "source": [
    "## Data export"
   ]
  },
  {
   "cell_type": "code",
   "execution_count": 13,
   "metadata": {},
   "outputs": [],
   "source": [
    "exp_data_file = \"db_mediastinalbulky_cleaned.pkl\"\n",
    "exp_file_path = os.path.join ( data_dir, exp_data_file )\n",
    "\n",
    "data . to_pickle ( exp_file_path )"
   ]
  }
 ],
 "metadata": {
  "interpreter": {
   "hash": "9cb8e2032001cc7bc8687ef8cc831c2b5bbaf47009bbc83f8561bace135c660d"
  },
  "kernelspec": {
   "display_name": "Python 3.9.7 64-bit ('aimn': conda)",
   "name": "python3"
  },
  "language_info": {
   "codemirror_mode": {
    "name": "ipython",
    "version": 3
   },
   "file_extension": ".py",
   "mimetype": "text/x-python",
   "name": "python",
   "nbconvert_exporter": "python",
   "pygments_lexer": "ipython3",
   "version": "3.9.7"
  },
  "orig_nbformat": 4
 },
 "nbformat": 4,
 "nbformat_minor": 2
}
