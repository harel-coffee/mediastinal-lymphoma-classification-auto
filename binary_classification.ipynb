{
 "metadata": {
  "language_info": {
   "codemirror_mode": {
    "name": "ipython",
    "version": 3
   },
   "file_extension": ".py",
   "mimetype": "text/x-python",
   "name": "python",
   "nbconvert_exporter": "python",
   "pygments_lexer": "ipython3",
   "version": "3.8.10"
  },
  "orig_nbformat": 4,
  "kernelspec": {
   "name": "python3",
   "display_name": "Python 3.8.10 64-bit ('lnhunter': conda)"
  },
  "interpreter": {
   "hash": "65c8efb418b8f4ceec5b7b69913ffbc8b67164ae05996d18adb9af5317219c52"
  }
 },
 "nbformat": 4,
 "nbformat_minor": 2,
 "cells": [
  {
   "cell_type": "markdown",
   "source": [
    "[![Open In Colab](https://colab.research.google.com/assets/colab-badge.svg)](https://colab.research.google.com/github/mbarbetti/LNHunter/blob/master/binary_classification.ipynb)\n",
    "\n",
    "# Binary classification"
   ],
   "metadata": {}
  },
  {
   "cell_type": "markdown",
   "source": [
    "## Data loading and preparation"
   ],
   "metadata": {}
  },
  {
   "cell_type": "code",
   "execution_count": 1,
   "source": [
    "import numpy as np\n",
    "import pandas as pd\n",
    "\n",
    "import os\n",
    "import pickle\n",
    "\n",
    "data_dir  = \"./data\"\n",
    "data_file = \"db_mediastinalbulky_v2-reduced.pkl\" \n",
    "file_path = os.path.join ( data_dir, data_file )\n",
    "\n",
    "with open (file_path, \"rb\") as file:\n",
    "  data = pickle.load (file)\n",
    "\n",
    "data . info()"
   ],
   "outputs": [
    {
     "output_type": "stream",
     "name": "stdout",
     "text": [
      "<class 'pandas.core.frame.DataFrame'>\n",
      "Int64Index: 119 entries, 0 to 118\n",
      "Data columns (total 19 columns):\n",
      " #   Column                           Non-Null Count  Dtype  \n",
      "---  ------                           --------------  -----  \n",
      " 0   ID                               119 non-null    float64\n",
      " 1   lymphoma_type                    119 non-null    float64\n",
      " 2   age                              111 non-null    float64\n",
      " 3   SUVmin (SUV)                     111 non-null    float64\n",
      " 4   SUVmean (SUV)                    111 non-null    float64\n",
      " 5   MTV (# vx)                       111 non-null    float64\n",
      " 6   SMTV (mL/Kg) TOT                 111 non-null    float64\n",
      " 7   CONVENTIONAL_SUVbwmin            115 non-null    float64\n",
      " 8   CONVENTIONAL_SUVbwKurtosis       115 non-null    float64\n",
      " 9   DISCRETIZED_HISTO_Kurtosis       110 non-null    float64\n",
      " 10  SHAPE_Sphericity[onlyFor3DROI])  113 non-null    float64\n",
      " 11  GLCM_Correlation                 113 non-null    float64\n",
      " 12  GLRLM_SRE                        113 non-null    float64\n",
      " 13  NGLDM_Coarseness                 113 non-null    float64\n",
      " 14  NGLDM_Busyness                   113 non-null    float64\n",
      " 15  GLZLM_LZE                        113 non-null    float64\n",
      " 16  GLZLM_LZLGE                      113 non-null    float64\n",
      " 17  GLZLM_LZHGE                      113 non-null    float64\n",
      " 18  GLZLM_ZLNU                       113 non-null    float64\n",
      "dtypes: float64(19)\n",
      "memory usage: 18.6 KB\n"
     ]
    }
   ],
   "metadata": {}
  },
  {
   "cell_type": "markdown",
   "source": [
    "### Aggressive data cleaning "
   ],
   "metadata": {}
  },
  {
   "cell_type": "code",
   "execution_count": 2,
   "source": [
    "data . dropna ( inplace = True )\n",
    "data . info()"
   ],
   "outputs": [
    {
     "output_type": "stream",
     "name": "stdout",
     "text": [
      "<class 'pandas.core.frame.DataFrame'>\n",
      "Int64Index: 101 entries, 0 to 118\n",
      "Data columns (total 19 columns):\n",
      " #   Column                           Non-Null Count  Dtype  \n",
      "---  ------                           --------------  -----  \n",
      " 0   ID                               101 non-null    float64\n",
      " 1   lymphoma_type                    101 non-null    float64\n",
      " 2   age                              101 non-null    float64\n",
      " 3   SUVmin (SUV)                     101 non-null    float64\n",
      " 4   SUVmean (SUV)                    101 non-null    float64\n",
      " 5   MTV (# vx)                       101 non-null    float64\n",
      " 6   SMTV (mL/Kg) TOT                 101 non-null    float64\n",
      " 7   CONVENTIONAL_SUVbwmin            101 non-null    float64\n",
      " 8   CONVENTIONAL_SUVbwKurtosis       101 non-null    float64\n",
      " 9   DISCRETIZED_HISTO_Kurtosis       101 non-null    float64\n",
      " 10  SHAPE_Sphericity[onlyFor3DROI])  101 non-null    float64\n",
      " 11  GLCM_Correlation                 101 non-null    float64\n",
      " 12  GLRLM_SRE                        101 non-null    float64\n",
      " 13  NGLDM_Coarseness                 101 non-null    float64\n",
      " 14  NGLDM_Busyness                   101 non-null    float64\n",
      " 15  GLZLM_LZE                        101 non-null    float64\n",
      " 16  GLZLM_LZLGE                      101 non-null    float64\n",
      " 17  GLZLM_LZHGE                      101 non-null    float64\n",
      " 18  GLZLM_ZLNU                       101 non-null    float64\n",
      "dtypes: float64(19)\n",
      "memory usage: 15.8 KB\n"
     ]
    }
   ],
   "metadata": {}
  },
  {
   "cell_type": "markdown",
   "source": [
    "### Splitting into train-set and test-set"
   ],
   "metadata": {}
  },
  {
   "cell_type": "code",
   "execution_count": 3,
   "source": [
    "cols = list ( data.columns )\n",
    "X_cols = cols[2:]\n",
    "y_cols = \"lymphoma_type\"\n",
    "\n",
    "binary_class = (data[y_cols] != 2)   # exclude GZ class\n",
    "\n",
    "X = data[binary_class][X_cols] . to_numpy()\n",
    "y = data[binary_class][y_cols] . to_numpy() . flatten()\n",
    "\n",
    "ratio = len(y[y == 3]) / len(y[y == 1])\n",
    "print ( \"Label ratio on data-set : {:.1f}%\" . format (100 * ratio) )"
   ],
   "outputs": [
    {
     "output_type": "stream",
     "name": "stdout",
     "text": [
      "Label ratio on data-set : 41.5%\n"
     ]
    }
   ],
   "metadata": {}
  },
  {
   "cell_type": "code",
   "execution_count": 4,
   "source": [
    "from sklearn.model_selection import train_test_split\n",
    "\n",
    "X_train, X_test, y_train, y_test = train_test_split ( X, y, test_size = 0.2, random_state = 42 )\n",
    "\n",
    "ratio_train = len(y_train[y_train == 3]) / len(y_train[y_train == 1])\n",
    "print ( \"Label ratio on train-set : {:.1f}%\" . format (100 * ratio_train) )\n",
    "\n",
    "ratio_test = len(y_test[y_test == 3]) / len(y_test[y_test == 1])\n",
    "print ( \"Label ratio on test-set  : {:.1f}%\" . format (100 * ratio_test) )"
   ],
   "outputs": [
    {
     "output_type": "stream",
     "name": "stdout",
     "text": [
      "Label ratio on train-set : 46.0%\n",
      "Label ratio on test-set  : 26.7%\n"
     ]
    }
   ],
   "metadata": {}
  },
  {
   "cell_type": "code",
   "execution_count": 5,
   "source": [
    "from sklearn.model_selection import StratifiedShuffleSplit\n",
    "\n",
    "sss = StratifiedShuffleSplit ( n_splits = 1, test_size = 0.2, random_state = 42 )\n",
    "for idx_train, idx_test in sss . split ( X, y ):\n",
    "  X_train , y_train = X[idx_train] , y[idx_train]\n",
    "  X_test  , y_test  = X[idx_test]  , y[idx_test]\n",
    "\n",
    "ratio_train = len(y_train[y_train == 3]) / len(y_train[y_train == 1])\n",
    "print ( \"Label ratio on train-set : {:.1f}%\" . format (100 * ratio_train) )\n",
    "\n",
    "ratio_test = len(y_test[y_test == 3]) / len(y_test[y_test == 1])\n",
    "print ( \"Label ratio on test-set  : {:.1f}%\" . format (100 * ratio_test) )"
   ],
   "outputs": [
    {
     "output_type": "stream",
     "name": "stdout",
     "text": [
      "Label ratio on train-set : 40.4%\n",
      "Label ratio on test-set  : 46.2%\n"
     ]
    }
   ],
   "metadata": {}
  },
  {
   "cell_type": "markdown",
   "source": [
    "## Simple binary classification"
   ],
   "metadata": {}
  },
  {
   "cell_type": "code",
   "execution_count": 25,
   "source": [
    "%matplotlib inline \n",
    "import matplotlib.pyplot as plt\n",
    "\n",
    "from sklearn.model_selection import cross_val_score\n",
    "\n",
    "### Display trained model score\n",
    "def display_score ( model_name: str, scores: list ):\n",
    "  str_len = len ( model_name )\n",
    "  print ( \"+--\" + \"-\" * str_len + \"--+\")\n",
    "  print ( \"|  {}  |\" . format (model_name) )\n",
    "  print ( \"+--\" + \"-\" * str_len + \"--+\")\n",
    "  print ( \"| Scores : {}\" . format ( scores ) )\n",
    "  print ( \"| Mean   : {:.1f}%\" . format ( 100 * np.mean(scores) ) )\n",
    "  print ( \"| Std    : {:.1f}%\" . format ( 100 * np.std (scores) ) )\n",
    "  print ( \"+--- - -\")"
   ],
   "outputs": [],
   "metadata": {}
  },
  {
   "cell_type": "markdown",
   "source": [
    "### Gradient Boosted Decision Trees"
   ],
   "metadata": {}
  },
  {
   "cell_type": "code",
   "execution_count": 26,
   "source": [
    "from sklearn.ensemble import GradientBoostingClassifier\n",
    "\n",
    "clf_gbdt = GradientBoostingClassifier (\n",
    "                                        loss = \"deviance\" ,\n",
    "                                        learning_rate = 0.3 ,\n",
    "                                        n_estimators  = 100 ,\n",
    "                                        criterion = \"friedman_mse\" ,\n",
    "                                        max_leaf_nodes = 10 ,\n",
    "                                        max_depth = 5       ,\n",
    "                                      )\n",
    "\n",
    "scores = cross_val_score ( clf_gbdt, X_train, y_train, scoring = \"accuracy\", cv = 4 )\n",
    "\n",
    "display_score ( model_name = \"GBDT Classifier\", scores = scores )"
   ],
   "outputs": [
    {
     "output_type": "stream",
     "name": "stdout",
     "text": [
      "+-------------------+\n",
      "|  GBDT Classifier  |\n",
      "+-------------------+\n",
      "| Scores : [0.73684211 0.72222222 0.83333333 0.83333333]\n",
      "| Mean   : 78.1%\n",
      "| Std    : 5.2%\n",
      "+--- - -\n"
     ]
    }
   ],
   "metadata": {}
  },
  {
   "cell_type": "markdown",
   "source": [
    "#### Automatic hyperparameters tuning"
   ],
   "metadata": {}
  },
  {
   "cell_type": "code",
   "execution_count": 27,
   "source": [
    "import optuna\n",
    "optuna.logging.set_verbosity ( optuna.logging.ERROR )   # silence Optuna during trials study\n",
    "\n",
    "### Return a set of trials studied by Optuna\n",
    "def optuna_study (\n",
    "                   model_name  : str ,\n",
    "                   storage_dir : str ,\n",
    "                   objective   : float ,\n",
    "                   n_trials    : int = 10 ,\n",
    "                   direction : str = \"minimize\"  , \n",
    "                   load_if_exists : bool = False ,\n",
    "                 ):\n",
    "  storage_path = \"{}/{}.db\" . format (storage_dir, model_name)\n",
    "  storage_name = \"sqlite:///{}\" . format (storage_path)  \n",
    "\n",
    "  if load_if_exists:\n",
    "    pass\n",
    "  elif not ( load_if_exists ) and os.path.isfile ( storage_path ):\n",
    "    os.remove ( storage_path )\n",
    "\n",
    "  study = optuna.create_study ( \n",
    "                                study_name = model_name ,\n",
    "                                storage  = storage_name ,\n",
    "                                load_if_exists = load_if_exists ,\n",
    "                                direction = direction\n",
    "                              )\n",
    "\n",
    "  study . optimize ( objective, n_trials = n_trials )\n",
    "\n",
    "  return study\n"
   ],
   "outputs": [],
   "metadata": {}
  },
  {
   "cell_type": "code",
   "execution_count": 28,
   "source": [
    "def obj_gbdt (trial):\n",
    "  loss = trial . suggest_categorical ( \"loss\", [\"deviance\", \"exponential\"] )\n",
    "  lr   = trial . suggest_float ( \"lr\", 0.05, 0.95, log = True )\n",
    "  n_estims  = trial . suggest_int ( \"n_estims\", 100, 500, log = True )\n",
    "  criterion = trial . suggest_categorical ( \"criterion\", [\"friedman_mse\", \"mse\"] ) \n",
    "  max_leaf  = trial . suggest_int ( \"max_leaf\" , 2, 20 )\n",
    "  max_depth = trial . suggest_int ( \"max_depth\", 1, 10 )\n",
    "\n",
    "  model = GradientBoostingClassifier ( \n",
    "                                       loss = loss ,\n",
    "                                       learning_rate =  lr , \n",
    "                                       n_estimators  =  n_estims , \n",
    "                                       criterion  =  criterion   ,\n",
    "                                       max_leaf_nodes = max_leaf ,\n",
    "                                       max_depth = max_depth ,\n",
    "                                     )\n",
    "  \n",
    "  scores = cross_val_score ( model, X_train, y_train, scoring = \"accuracy\", cv = 4 )\n",
    "  \n",
    "  return np.mean ( scores )"
   ],
   "outputs": [],
   "metadata": {}
  },
  {
   "cell_type": "code",
   "execution_count": 29,
   "source": [
    "study_gbdt = optuna_study (\n",
    "                            model_name  = \"clf_gbdt\"  ,\n",
    "                            storage_dir = \"./storage\" ,\n",
    "                            objective = obj_gbdt ,\n",
    "                            n_trials  = 50 ,\n",
    "                            direction = \"maximize\" ,\n",
    "                            load_if_exists = False ,\n",
    "                            )"
   ],
   "outputs": [],
   "metadata": {}
  },
  {
   "cell_type": "code",
   "execution_count": 30,
   "source": [
    "df = study_gbdt . trials_dataframe ( attrs = (\"params\", \"value\") )\n",
    "df . sort_values ( by = \"value\", ascending = False ) . head()"
   ],
   "outputs": [
    {
     "output_type": "execute_result",
     "data": {
      "text/plain": [
       "   params_criterion  params_loss  params_lr  params_max_depth  \\\n",
       "25     friedman_mse  exponential   0.152128                 2   \n",
       "38     friedman_mse  exponential   0.199145                 3   \n",
       "45     friedman_mse     deviance   0.326869                 3   \n",
       "43     friedman_mse  exponential   0.300303                 3   \n",
       "10     friedman_mse  exponential   0.195587                 1   \n",
       "\n",
       "    params_max_leaf  params_n_estims     value  \n",
       "25               15              200  0.834795  \n",
       "38               14              160  0.834795  \n",
       "45               14              186  0.834795  \n",
       "43               12              172  0.834795  \n",
       "10                2              194  0.834795  "
      ],
      "text/html": [
       "<div>\n",
       "<style scoped>\n",
       "    .dataframe tbody tr th:only-of-type {\n",
       "        vertical-align: middle;\n",
       "    }\n",
       "\n",
       "    .dataframe tbody tr th {\n",
       "        vertical-align: top;\n",
       "    }\n",
       "\n",
       "    .dataframe thead th {\n",
       "        text-align: right;\n",
       "    }\n",
       "</style>\n",
       "<table border=\"1\" class=\"dataframe\">\n",
       "  <thead>\n",
       "    <tr style=\"text-align: right;\">\n",
       "      <th></th>\n",
       "      <th>params_criterion</th>\n",
       "      <th>params_loss</th>\n",
       "      <th>params_lr</th>\n",
       "      <th>params_max_depth</th>\n",
       "      <th>params_max_leaf</th>\n",
       "      <th>params_n_estims</th>\n",
       "      <th>value</th>\n",
       "    </tr>\n",
       "  </thead>\n",
       "  <tbody>\n",
       "    <tr>\n",
       "      <th>25</th>\n",
       "      <td>friedman_mse</td>\n",
       "      <td>exponential</td>\n",
       "      <td>0.152128</td>\n",
       "      <td>2</td>\n",
       "      <td>15</td>\n",
       "      <td>200</td>\n",
       "      <td>0.834795</td>\n",
       "    </tr>\n",
       "    <tr>\n",
       "      <th>38</th>\n",
       "      <td>friedman_mse</td>\n",
       "      <td>exponential</td>\n",
       "      <td>0.199145</td>\n",
       "      <td>3</td>\n",
       "      <td>14</td>\n",
       "      <td>160</td>\n",
       "      <td>0.834795</td>\n",
       "    </tr>\n",
       "    <tr>\n",
       "      <th>45</th>\n",
       "      <td>friedman_mse</td>\n",
       "      <td>deviance</td>\n",
       "      <td>0.326869</td>\n",
       "      <td>3</td>\n",
       "      <td>14</td>\n",
       "      <td>186</td>\n",
       "      <td>0.834795</td>\n",
       "    </tr>\n",
       "    <tr>\n",
       "      <th>43</th>\n",
       "      <td>friedman_mse</td>\n",
       "      <td>exponential</td>\n",
       "      <td>0.300303</td>\n",
       "      <td>3</td>\n",
       "      <td>12</td>\n",
       "      <td>172</td>\n",
       "      <td>0.834795</td>\n",
       "    </tr>\n",
       "    <tr>\n",
       "      <th>10</th>\n",
       "      <td>friedman_mse</td>\n",
       "      <td>exponential</td>\n",
       "      <td>0.195587</td>\n",
       "      <td>1</td>\n",
       "      <td>2</td>\n",
       "      <td>194</td>\n",
       "      <td>0.834795</td>\n",
       "    </tr>\n",
       "  </tbody>\n",
       "</table>\n",
       "</div>"
      ]
     },
     "metadata": {},
     "execution_count": 30
    }
   ],
   "metadata": {}
  },
  {
   "cell_type": "code",
   "execution_count": 31,
   "source": [
    "best_params = study_gbdt . best_params\n",
    "\n",
    "clf_gbdt = GradientBoostingClassifier (\n",
    "                                        loss = best_params[\"loss\"] ,\n",
    "                                        learning_rate = best_params[\"lr\"] ,\n",
    "                                        n_estimators  = best_params[\"n_estims\"]  ,\n",
    "                                        criterion  =  best_params[\"criterion\"]   ,\n",
    "                                        max_leaf_nodes = best_params[\"max_leaf\"] ,\n",
    "                                        max_depth = best_params[\"max_depth\"] ,\n",
    "                                      )\n",
    "\n",
    "scores = cross_val_score ( clf_gbdt, X_train, y_train, scoring = \"accuracy\", cv = 4 )\n",
    "\n",
    "display_score ( model_name = \"GBDT Classifier\", scores = scores )"
   ],
   "outputs": [
    {
     "output_type": "stream",
     "name": "stdout",
     "text": [
      "+-------------------+\n",
      "|  GBDT Classifier  |\n",
      "+-------------------+\n",
      "| Scores : [0.89473684 0.66666667 0.88888889 0.88888889]\n",
      "| Mean   : 83.5%\n",
      "| Std    : 9.7%\n",
      "+--- - -\n"
     ]
    }
   ],
   "metadata": {}
  },
  {
   "cell_type": "code",
   "execution_count": 32,
   "source": [
    "from sklearn.model_selection import cross_val_predict\n",
    "from sklearn.metrics import confusion_matrix\n",
    "\n",
    "from sklearn.metrics import plot_confusion_matrix\n",
    "\n",
    "#y_train_pred = cross_val_predict(model, X_train, y_train, cv=3)\n",
    "\n",
    "#print ( confusion_matrix(y_train, y_train_pred) )\n",
    "\n",
    "#plot_confusion_matrix (model, X_train, y_train)\n",
    "#plt.show()"
   ],
   "outputs": [],
   "metadata": {}
  },
  {
   "cell_type": "markdown",
   "source": [
    "### Support Vector Machines"
   ],
   "metadata": {}
  },
  {
   "cell_type": "code",
   "execution_count": 33,
   "source": [
    "from sklearn.svm import SVC\n",
    "\n",
    "clf_svm = SVC ( C = 1.0, kernel = \"rbf\" )\n",
    "\n",
    "scores = cross_val_score ( clf_svm, X_train, y_train, scoring = \"accuracy\", cv = 4 )\n",
    "\n",
    "display_score ( model_name = \"SVM Classifier\", scores = scores )"
   ],
   "outputs": [
    {
     "output_type": "stream",
     "name": "stdout",
     "text": [
      "+------------------+\n",
      "|  SVM Classifier  |\n",
      "+------------------+\n",
      "| Scores : [0.68421053 0.72222222 0.72222222 0.72222222]\n",
      "| Mean   : 71.3%\n",
      "| Std    : 1.6%\n",
      "+--- - -\n"
     ]
    }
   ],
   "metadata": {}
  },
  {
   "cell_type": "markdown",
   "source": [
    "#### Automatic hyperparameters tuning"
   ],
   "metadata": {}
  },
  {
   "cell_type": "code",
   "execution_count": 34,
   "source": [
    "def obj_svm (trial):\n",
    "  C = trial . suggest_float ( \"C\", 1e-2, 1e2, log = True )\n",
    "  kernel = trial . suggest_categorical ( \"kernel\", [\"rbf\", \"sigmoid\"] )\n",
    "  gamma  = trial . suggest_categorical ( \"gamma\", [\"scale\", \"auto\"] )\n",
    "  coef0  = trial . suggest_float ( \"coef0\", 0, 1 )\n",
    "\n",
    "  model = SVC ( C = C, kernel = kernel, gamma = gamma, coef0 = coef0 )\n",
    "  \n",
    "  scores = cross_val_score ( model, X_train, y_train, scoring = \"accuracy\", cv = 4 )\n",
    "  \n",
    "  return np.mean ( scores )"
   ],
   "outputs": [],
   "metadata": {}
  },
  {
   "cell_type": "code",
   "execution_count": 35,
   "source": [
    "study_svm = optuna_study (\n",
    "                           model_name  = \"clf_svm\"  ,\n",
    "                           storage_dir = \"./storage\" ,\n",
    "                           objective = obj_svm ,\n",
    "                           n_trials  = 50 ,\n",
    "                           direction = \"maximize\" ,\n",
    "                           load_if_exists = False ,\n",
    "                         )"
   ],
   "outputs": [],
   "metadata": {}
  },
  {
   "cell_type": "code",
   "execution_count": 36,
   "source": [
    "df = study_svm . trials_dataframe ( attrs = (\"params\", \"value\") )\n",
    "df . sort_values ( by = \"value\", ascending = False ) . head()"
   ],
   "outputs": [
    {
     "output_type": "execute_result",
     "data": {
      "text/plain": [
       "     params_C  params_coef0 params_gamma params_kernel     value\n",
       "0    0.149424      0.533525         auto       sigmoid  0.712719\n",
       "1    0.018802      0.651200         auto           rbf  0.712719\n",
       "27  71.427136      0.097037         auto       sigmoid  0.712719\n",
       "28   2.579852      0.173740         auto       sigmoid  0.712719\n",
       "29   6.932823      0.595131         auto       sigmoid  0.712719"
      ],
      "text/html": [
       "<div>\n",
       "<style scoped>\n",
       "    .dataframe tbody tr th:only-of-type {\n",
       "        vertical-align: middle;\n",
       "    }\n",
       "\n",
       "    .dataframe tbody tr th {\n",
       "        vertical-align: top;\n",
       "    }\n",
       "\n",
       "    .dataframe thead th {\n",
       "        text-align: right;\n",
       "    }\n",
       "</style>\n",
       "<table border=\"1\" class=\"dataframe\">\n",
       "  <thead>\n",
       "    <tr style=\"text-align: right;\">\n",
       "      <th></th>\n",
       "      <th>params_C</th>\n",
       "      <th>params_coef0</th>\n",
       "      <th>params_gamma</th>\n",
       "      <th>params_kernel</th>\n",
       "      <th>value</th>\n",
       "    </tr>\n",
       "  </thead>\n",
       "  <tbody>\n",
       "    <tr>\n",
       "      <th>0</th>\n",
       "      <td>0.149424</td>\n",
       "      <td>0.533525</td>\n",
       "      <td>auto</td>\n",
       "      <td>sigmoid</td>\n",
       "      <td>0.712719</td>\n",
       "    </tr>\n",
       "    <tr>\n",
       "      <th>1</th>\n",
       "      <td>0.018802</td>\n",
       "      <td>0.651200</td>\n",
       "      <td>auto</td>\n",
       "      <td>rbf</td>\n",
       "      <td>0.712719</td>\n",
       "    </tr>\n",
       "    <tr>\n",
       "      <th>27</th>\n",
       "      <td>71.427136</td>\n",
       "      <td>0.097037</td>\n",
       "      <td>auto</td>\n",
       "      <td>sigmoid</td>\n",
       "      <td>0.712719</td>\n",
       "    </tr>\n",
       "    <tr>\n",
       "      <th>28</th>\n",
       "      <td>2.579852</td>\n",
       "      <td>0.173740</td>\n",
       "      <td>auto</td>\n",
       "      <td>sigmoid</td>\n",
       "      <td>0.712719</td>\n",
       "    </tr>\n",
       "    <tr>\n",
       "      <th>29</th>\n",
       "      <td>6.932823</td>\n",
       "      <td>0.595131</td>\n",
       "      <td>auto</td>\n",
       "      <td>sigmoid</td>\n",
       "      <td>0.712719</td>\n",
       "    </tr>\n",
       "  </tbody>\n",
       "</table>\n",
       "</div>"
      ]
     },
     "metadata": {},
     "execution_count": 36
    }
   ],
   "metadata": {}
  },
  {
   "cell_type": "code",
   "execution_count": 37,
   "source": [
    "best_params = study_svm . best_params\n",
    "\n",
    "clf_svm = SVC ( C = best_params[\"C\"], kernel = best_params[\"kernel\"], gamma = best_params[\"gamma\"], coef0 = best_params[\"coef0\"] )\n",
    "\n",
    "scores = cross_val_score ( clf_svm, X_train, y_train, scoring = \"accuracy\", cv = 4 )\n",
    "\n",
    "display_score ( model_name = \"SVM Classifier\", scores = scores )"
   ],
   "outputs": [
    {
     "output_type": "stream",
     "name": "stdout",
     "text": [
      "+------------------+\n",
      "|  SVM Classifier  |\n",
      "+------------------+\n",
      "| Scores : [0.68421053 0.72222222 0.72222222 0.72222222]\n",
      "| Mean   : 71.3%\n",
      "| Std    : 1.6%\n",
      "+--- - -\n"
     ]
    }
   ],
   "metadata": {}
  },
  {
   "cell_type": "markdown",
   "source": [
    "### Model evaluation"
   ],
   "metadata": {}
  },
  {
   "cell_type": "code",
   "execution_count": 19,
   "source": [
    "from sklearn.metrics import accuracy_score\n",
    "\n",
    "#final_predictions = final_model . predict ( X_test )\n",
    "#final_scores = accuracy_score ( y_test, final_predictions )\n",
    "\n",
    "#display_score ( model_name = \"Best Classifier\", scores = final_scores )"
   ],
   "outputs": [],
   "metadata": {}
  },
  {
   "cell_type": "markdown",
   "source": [
    "### Model export"
   ],
   "metadata": {}
  },
  {
   "cell_type": "code",
   "execution_count": 20,
   "source": [
    "model_dir = \"./models\"\n",
    "#exp_model_file = \"model_test.pkl\"\n",
    "#exp_model_path = os.path.join ( model_dir, exp_model_file )\n",
    "\n",
    "#pickle . dump ( model, open ( exp_model_path, \"wb\" ) )"
   ],
   "outputs": [],
   "metadata": {}
  }
 ]
}