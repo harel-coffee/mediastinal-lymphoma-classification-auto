{
 "cells": [
  {
   "cell_type": "markdown",
   "metadata": {},
   "source": [
    "[![Open In Colab](https://colab.research.google.com/assets/colab-badge.svg)](https://colab.research.google.com/github/mbarbetti/lymphoma-classification/blob/master/3_binary_classification.ipynb)\n",
    "\n",
    "# Binary classification"
   ]
  },
  {
   "cell_type": "markdown",
   "metadata": {},
   "source": [
    "## Data loading and preparation"
   ]
  },
  {
   "cell_type": "code",
   "execution_count": 1,
   "metadata": {},
   "outputs": [
    {
     "name": "stdout",
     "output_type": "stream",
     "text": [
      "<class 'pandas.core.frame.DataFrame'>\n",
      "Int64Index: 119 entries, 0 to 118\n",
      "Data columns (total 19 columns):\n",
      " #   Column                           Non-Null Count  Dtype  \n",
      "---  ------                           --------------  -----  \n",
      " 0   ID                               119 non-null    float64\n",
      " 1   lymphoma_type                    119 non-null    float64\n",
      " 2   age                              111 non-null    float64\n",
      " 3   SUVmin (SUV)                     111 non-null    float64\n",
      " 4   SUVmean (SUV)                    111 non-null    float64\n",
      " 5   MTV (# vx)                       111 non-null    float64\n",
      " 6   SMTV (mL/Kg) TOT                 111 non-null    float64\n",
      " 7   CONVENTIONAL_SUVbwmin            115 non-null    float64\n",
      " 8   CONVENTIONAL_SUVbwKurtosis       115 non-null    float64\n",
      " 9   DISCRETIZED_HISTO_Kurtosis       110 non-null    float64\n",
      " 10  SHAPE_Sphericity[onlyFor3DROI])  113 non-null    float64\n",
      " 11  GLCM_Correlation                 113 non-null    float64\n",
      " 12  GLRLM_SRE                        113 non-null    float64\n",
      " 13  NGLDM_Coarseness                 113 non-null    float64\n",
      " 14  NGLDM_Busyness                   113 non-null    float64\n",
      " 15  GLZLM_LZE                        113 non-null    float64\n",
      " 16  GLZLM_LZLGE                      113 non-null    float64\n",
      " 17  GLZLM_LZHGE                      113 non-null    float64\n",
      " 18  GLZLM_ZLNU                       113 non-null    float64\n",
      "dtypes: float64(19)\n",
      "memory usage: 18.6 KB\n"
     ]
    }
   ],
   "source": [
    "import numpy as np\n",
    "import pandas as pd\n",
    "\n",
    "import os\n",
    "import pickle\n",
    "\n",
    "data_dir  = \"./data\"\n",
    "data_file = \"db_mediastinalbulky_v2-reduced.pkl\" \n",
    "file_path = os.path.join ( data_dir, data_file )\n",
    "\n",
    "with open (file_path, \"rb\") as file:\n",
    "  data = pickle.load (file)\n",
    "\n",
    "data . info()"
   ]
  },
  {
   "cell_type": "markdown",
   "metadata": {},
   "source": [
    "### Aggressive data cleaning "
   ]
  },
  {
   "cell_type": "code",
   "execution_count": 2,
   "metadata": {},
   "outputs": [
    {
     "name": "stdout",
     "output_type": "stream",
     "text": [
      "<class 'pandas.core.frame.DataFrame'>\n",
      "Int64Index: 101 entries, 0 to 118\n",
      "Data columns (total 19 columns):\n",
      " #   Column                           Non-Null Count  Dtype  \n",
      "---  ------                           --------------  -----  \n",
      " 0   ID                               101 non-null    float64\n",
      " 1   lymphoma_type                    101 non-null    float64\n",
      " 2   age                              101 non-null    float64\n",
      " 3   SUVmin (SUV)                     101 non-null    float64\n",
      " 4   SUVmean (SUV)                    101 non-null    float64\n",
      " 5   MTV (# vx)                       101 non-null    float64\n",
      " 6   SMTV (mL/Kg) TOT                 101 non-null    float64\n",
      " 7   CONVENTIONAL_SUVbwmin            101 non-null    float64\n",
      " 8   CONVENTIONAL_SUVbwKurtosis       101 non-null    float64\n",
      " 9   DISCRETIZED_HISTO_Kurtosis       101 non-null    float64\n",
      " 10  SHAPE_Sphericity[onlyFor3DROI])  101 non-null    float64\n",
      " 11  GLCM_Correlation                 101 non-null    float64\n",
      " 12  GLRLM_SRE                        101 non-null    float64\n",
      " 13  NGLDM_Coarseness                 101 non-null    float64\n",
      " 14  NGLDM_Busyness                   101 non-null    float64\n",
      " 15  GLZLM_LZE                        101 non-null    float64\n",
      " 16  GLZLM_LZLGE                      101 non-null    float64\n",
      " 17  GLZLM_LZHGE                      101 non-null    float64\n",
      " 18  GLZLM_ZLNU                       101 non-null    float64\n",
      "dtypes: float64(19)\n",
      "memory usage: 15.8 KB\n"
     ]
    }
   ],
   "source": [
    "data . dropna ( inplace = True )\n",
    "data . info()"
   ]
  },
  {
   "cell_type": "markdown",
   "metadata": {},
   "source": [
    "### Splitting into train-set and test-set"
   ]
  },
  {
   "cell_type": "code",
   "execution_count": 3,
   "metadata": {},
   "outputs": [
    {
     "name": "stdout",
     "output_type": "stream",
     "text": [
      "NHL-HL ratio on data-set : 55.4%\n"
     ]
    }
   ],
   "source": [
    "cols = list ( data.columns )\n",
    "X_cols = cols[2:]\n",
    "y_cols = \"lymphoma_type\"\n",
    "\n",
    "X = data[X_cols] . to_numpy()\n",
    "y = data[y_cols] . to_numpy() . flatten()\n",
    "y = ( y == 1 )   # Hodgkin/non-Hodgkin classification\n",
    "\n",
    "ratio = len(y[y == False]) / len(y[y == True])\n",
    "print ( \"NHL-HL ratio on data-set : {:.1f}%\" . format (100 * ratio) )"
   ]
  },
  {
   "cell_type": "code",
   "execution_count": 4,
   "metadata": {},
   "outputs": [
    {
     "name": "stdout",
     "output_type": "stream",
     "text": [
      "NHL-HL ratio on train-set : 53.8%\n",
      "NHL-HL ratio on test-set  : 61.5%\n"
     ]
    }
   ],
   "source": [
    "from sklearn.model_selection import train_test_split\n",
    "\n",
    "X_train, X_test, y_train, y_test = train_test_split ( X, y, test_size = 0.2, random_state = 42 )\n",
    "\n",
    "### Train-set\n",
    "ratio_train = len(y_train[y_train == False]) / len(y_train[y_train == True])\n",
    "print ( \"NHL-HL ratio on train-set : {:.1f}%\" . format (100 * ratio_train) )\n",
    "\n",
    "### Test-set\n",
    "ratio_test = len(y_test[y_test == False]) / len(y_test[y_test == True])\n",
    "print ( \"NHL-HL ratio on test-set  : {:.1f}%\" . format (100 * ratio_test) )"
   ]
  },
  {
   "cell_type": "code",
   "execution_count": 5,
   "metadata": {},
   "outputs": [
    {
     "name": "stdout",
     "output_type": "stream",
     "text": [
      "NHL-HL ratio on train-set : 56.9%\n",
      "NHL-HL ratio on test-set  : 50.0%\n"
     ]
    }
   ],
   "source": [
    "from sklearn.model_selection import StratifiedShuffleSplit\n",
    "\n",
    "sss = StratifiedShuffleSplit ( n_splits = 1, test_size = 0.2, random_state = 42 )\n",
    "for idx_train, idx_test in sss . split ( X, y ):\n",
    "  X_train , y_train = X[idx_train] , y[idx_train]\n",
    "  X_test  , y_test  = X[idx_test]  , y[idx_test]\n",
    "\n",
    "### Train-set\n",
    "ratio_train = len(y_train[y_train == False]) / len(y_train[y_train == True])\n",
    "print ( \"NHL-HL ratio on train-set : {:.1f}%\" . format (100 * ratio_train) )\n",
    "\n",
    "### Test-set\n",
    "ratio_test = len(y_test[y_test == False]) / len(y_test[y_test == True])\n",
    "print ( \"NHL-HL ratio on test-set  : {:.1f}%\" . format (100 * ratio_test) )"
   ]
  },
  {
   "cell_type": "markdown",
   "metadata": {},
   "source": [
    "### Data preprocessing"
   ]
  },
  {
   "cell_type": "code",
   "execution_count": 6,
   "metadata": {},
   "outputs": [],
   "source": [
    "from sklearn.preprocessing import MinMaxScaler, StandardScaler\n",
    "\n",
    "#scaler = MinMaxScaler()\n",
    "scaler = StandardScaler()\n",
    "\n",
    "X_train = scaler . fit_transform ( X_train )\n",
    "X_test  = scaler . transform ( X_test )"
   ]
  },
  {
   "cell_type": "markdown",
   "metadata": {},
   "source": [
    "## Dummy Classifier"
   ]
  },
  {
   "cell_type": "code",
   "execution_count": 7,
   "metadata": {},
   "outputs": [],
   "source": [
    "from utils import DummyClassifier\n",
    "\n",
    "clf_dummy = DummyClassifier()"
   ]
  },
  {
   "cell_type": "code",
   "execution_count": 8,
   "metadata": {},
   "outputs": [
    {
     "name": "stdout",
     "output_type": "stream",
     "text": [
      "+--------------------+\n",
      "|  Dummy Classifier  |\n",
      "+--------------------+\n",
      "| Accuracy : [0.55555556 0.44444444 0.5       ]\n",
      "| Mean : 50.0%\n",
      "| Std  : 4.5%\n",
      "+--- - -\n"
     ]
    }
   ],
   "source": [
    "from sklearn.model_selection import cross_val_score\n",
    "\n",
    "scores = cross_val_score ( clf_dummy, X_train, y_train, scoring = \"accuracy\", cv = 3 )\n",
    "\n",
    "def display_score ( model_name: str, scores: list ):\n",
    "  str_len = len ( model_name )\n",
    "  print ( \"+--\" + \"-\" * str_len + \"--+\")\n",
    "  print ( \"|  {}  |\" . format (model_name) )\n",
    "  print ( \"+--\" + \"-\" * str_len + \"--+\")\n",
    "  print ( \"| Accuracy : {}\" . format ( scores ) )\n",
    "  print ( \"| Mean : {:.1f}%\" . format ( 100 * np.mean(scores) ) )\n",
    "  print ( \"| Std  : {:.1f}%\" . format ( 100 * np.std (scores) ) )\n",
    "  print ( \"+--- - -\")\n",
    "\n",
    "display_score ( model_name = \"Dummy Classifier\", scores = scores )"
   ]
  },
  {
   "cell_type": "code",
   "execution_count": 9,
   "metadata": {},
   "outputs": [
    {
     "name": "stdout",
     "output_type": "stream",
     "text": [
      "+---->  Label NHL  <----+\n",
      "|   Precision : 32.3%   |\n",
      "|   Recall    : 34.5%   |\n",
      "+---->  Label HL   <----+\n",
      "|   Precision : 61.2%   |\n",
      "|   Recall    : 58.8%   |\n",
      "+-----------------------+\n"
     ]
    },
    {
     "data": {
      "image/png": "[encoded data removed]",
      "text/plain": [
       "<Figure size 360x360 with 2 Axes>"
      ]
     },
     "metadata": {
      "needs_background": "light"
     },
     "output_type": "display_data"
    },
    {
     "data": {
      "image/png": "[encoded data removed]",
      "text/plain": [
       "<Figure size 360x360 with 2 Axes>"
      ]
     },
     "metadata": {
      "needs_background": "light"
     },
     "output_type": "display_data"
    }
   ],
   "source": [
    "import seaborn as sns\n",
    "import matplotlib.pyplot as plt\n",
    "\n",
    "from sklearn.model_selection import cross_val_predict\n",
    "from sklearn.metrics         import confusion_matrix\n",
    "\n",
    "y_train_pred = cross_val_predict ( clf_dummy, X_train, y_train, cv = 3 )\n",
    "\n",
    "\n",
    "def precision_recall_scores ( \n",
    "                              y_true  : np.ndarray , \n",
    "                              y_pred  : np.ndarray ,\n",
    "                              verbose : bool = False ,\n",
    "                              labels  : list = None , \n",
    "                              show_conf_matrix : bool = False ,\n",
    "                            ):\n",
    "  if labels is not None:\n",
    "    if len(labels) != len(np.unique(y_true)):\n",
    "      raise ValueError ( \"Labels list length doesn't match with the true number of classes.\" )\n",
    "  else:\n",
    "    labels = np.unique ( y_true )\n",
    "\n",
    "  conf_matrix = confusion_matrix ( y_true, y_pred )\n",
    "  precision = np.zeros ( len(conf_matrix) )\n",
    "  recall    = np.zeros ( len(conf_matrix) )\n",
    "\n",
    "  for i in range ( len(conf_matrix) ):\n",
    "    precision[i] = conf_matrix[i,i] / np.sum ( conf_matrix[:,i] )\n",
    "    recall[i]    = conf_matrix[i,i] / np.sum ( conf_matrix[i,:] )\n",
    "    if verbose:\n",
    "      print ( \"+---->  Label {:3}  <----+\" . format (labels[i]) )\n",
    "      print ( \"|   Precision : {:.1f}%   |\" . format (100 * precision[i]) )\n",
    "      print ( \"|   Recall    : {:.1f}%   |\" . format (100 * recall[i])    )\n",
    "  if verbose: print ( \"+-----------------------+\" )\n",
    "\n",
    "  if show_conf_matrix:\n",
    "    plt.figure ( figsize = (5,5) )    \n",
    "    plt.title ( \"Confusion matrix\", fontsize = 14 )\n",
    "    df_conf_mtx = pd.DataFrame (conf_matrix, index = labels, columns = labels )\n",
    "    sns.heatmap ( df_conf_mtx, annot = True, annot_kws = { \"size\" : 14 }, cmap = \"Blues\" )\n",
    "    plt.xlabel ( \"Predicted labels\", fontsize = 12 )\n",
    "    plt.ylabel ( \"True labels\", fontsize = 12)\n",
    "    plt.show()\n",
    "\n",
    "    plt.figure ( figsize = (5,5) )\n",
    "    plt.title ( \"Normalized confusion matrix\", fontsize = 14 )\n",
    "    norm_conf_matrix = conf_matrix / np.sum ( conf_matrix, axis = 1 ) [:,None]\n",
    "    df_norm_conf_mtx = pd.DataFrame (norm_conf_matrix, index = labels, columns = labels )\n",
    "    sns.heatmap ( df_norm_conf_mtx, annot = True, annot_kws = { \"size\" : 14 }, cmap = \"Blues\" )\n",
    "    plt.xlabel ( \"Predicted labels\", fontsize = 12 )\n",
    "    plt.ylabel ( \"True labels\", fontsize = 12)\n",
    "    plt.show()\n",
    "\n",
    "  return precision, recall\n",
    "\n",
    "\n",
    "_ = precision_recall_scores ( y_train, y_train_pred, verbose = True, labels = [\"NHL\", \"HL\"], show_conf_matrix = True )\n"
   ]
  },
  {
   "cell_type": "markdown",
   "metadata": {},
   "source": [
    "## Logistic Regression"
   ]
  },
  {
   "cell_type": "code",
   "execution_count": 10,
   "metadata": {},
   "outputs": [
    {
     "name": "stdout",
     "output_type": "stream",
     "text": [
      "+-----------------------+\n",
      "|  Logistic Regression  |\n",
      "+-----------------------+\n",
      "| Accuracy : [0.81481481 0.62962963 0.61538462]\n",
      "| Mean : 68.7%\n",
      "| Std  : 9.1%\n",
      "+--- - -\n",
      "+---->  Label NHL  <----+\n",
      "|   Precision : 55.6%   |\n",
      "|   Recall    : 69.0%   |\n",
      "+---->  Label HL   <----+\n",
      "|   Precision : 79.5%   |\n",
      "|   Recall    : 68.6%   |\n",
      "+-----------------------+\n"
     ]
    },
    {
     "data": {
      "image/png": "[encoded data removed]",
      "text/plain": [
       "<Figure size 360x360 with 2 Axes>"
      ]
     },
     "metadata": {
      "needs_background": "light"
     },
     "output_type": "display_data"
    },
    {
     "data": {
      "image/png": "[encoded data removed]",
      "text/plain": [
       "<Figure size 360x360 with 2 Axes>"
      ]
     },
     "metadata": {
      "needs_background": "light"
     },
     "output_type": "display_data"
    }
   ],
   "source": [
    "from sklearn.linear_model import LogisticRegression\n",
    "\n",
    "clf_logistic = LogisticRegression ( \n",
    "                                    penalty = \"l2\" ,\n",
    "                                    class_weight = \"balanced\" ,\n",
    "                                    solver = \"liblinear\" ,\n",
    "                                    max_iter = 500 ,\n",
    "                                    multi_class = \"ovr\" ,\n",
    "                                  )\n",
    "\n",
    "scores = cross_val_score ( clf_logistic, X_train, y_train, scoring = \"accuracy\", cv = 3 )\n",
    "y_train_pred = cross_val_predict ( clf_logistic, X_train, y_train, cv = 3 )\n",
    "\n",
    "display_score ( model_name = \"Logistic Regression\", scores = scores )\n",
    "_ = precision_recall_scores ( y_train, y_train_pred, verbose = True, labels = [\"NHL\", \"HL\"], show_conf_matrix = True )"
   ]
  },
  {
   "cell_type": "markdown",
   "metadata": {},
   "source": [
    "### Automatic hyperparameters tuning"
   ]
  },
  {
   "cell_type": "code",
   "execution_count": 11,
   "metadata": {},
   "outputs": [],
   "source": [
    "import optuna\n",
    "optuna.logging.set_verbosity ( optuna.logging.ERROR )   # silence Optuna during trials study\n",
    "\n",
    "### Return a set of trials studied by Optuna\n",
    "def optuna_study (\n",
    "                   model_name  : str ,\n",
    "                   storage_dir : str ,\n",
    "                   objective   : float ,\n",
    "                   n_trials    : int = 10 ,\n",
    "                   direction : str = \"minimize\"  , \n",
    "                   load_if_exists : bool = False ,\n",
    "                 ):\n",
    "  storage_path = \"{}/{}.db\" . format (storage_dir, model_name)\n",
    "  storage_name = \"sqlite:///{}\" . format (storage_path)  \n",
    "\n",
    "  if load_if_exists:\n",
    "    pass\n",
    "  elif not ( load_if_exists ) and os.path.isfile ( storage_path ):\n",
    "    os.remove ( storage_path )\n",
    "\n",
    "  study = optuna.create_study ( \n",
    "                                study_name = model_name ,\n",
    "                                storage  = storage_name ,\n",
    "                                load_if_exists = load_if_exists ,\n",
    "                                direction = direction\n",
    "                              )\n",
    "\n",
    "  study . optimize ( objective, n_trials = n_trials )\n",
    "\n",
    "  return study"
   ]
  },
  {
   "cell_type": "code",
   "execution_count": 12,
   "metadata": {},
   "outputs": [],
   "source": [
    "def obj_logistic (trial):\n",
    "  c_weights = trial . suggest_categorical ( \"c_weights\" , [None, \"balanced\"] )\n",
    "  solver    = trial . suggest_categorical ( \"solver\", [\"lbfgs\", \"liblinear\"] )\n",
    "  max_iter  = trial . suggest_int ( \"max_iter\", 500, 1000, log = True )\n",
    "\n",
    "  model = LogisticRegression ( \n",
    "                               penalty = \"l2\" ,\n",
    "                               class_weight = c_weights ,\n",
    "                               solver = solver ,\n",
    "                               max_iter = max_iter ,\n",
    "                               multi_class = \"ovr\" ,\n",
    "                             )\n",
    "  \n",
    "  y_pred  = cross_val_predict ( model, X_train, y_train, cv = 3 )\n",
    "  precision, recall = precision_recall_scores ( y_train, y_pred )\n",
    "\n",
    "  weights = np.array ( [ ratio_train, 1. ] )\n",
    "  scores  = recall\n",
    "  \n",
    "  return np.sum ( scores / weights ) / np.sum ( 1 / weights )\n",
    "\n",
    "\n",
    "study_logistic = optuna_study (\n",
    "                                model_name  = \"clf_logistic\"  ,\n",
    "                                storage_dir = \"./storage\" ,\n",
    "                                objective = obj_logistic ,\n",
    "                                n_trials  = 50 ,\n",
    "                                direction = \"maximize\" ,\n",
    "                                load_if_exists = False ,\n",
    "                              )"
   ]
  },
  {
   "cell_type": "code",
   "execution_count": 13,
   "metadata": {},
   "outputs": [
    {
     "data": {
      "text/html": [
       "<div>\n",
       "<style scoped>\n",
       "    .dataframe tbody tr th:only-of-type {\n",
       "        vertical-align: middle;\n",
       "    }\n",
       "\n",
       "    .dataframe tbody tr th {\n",
       "        vertical-align: top;\n",
       "    }\n",
       "\n",
       "    .dataframe thead th {\n",
       "        text-align: right;\n",
       "    }\n",
       "</style>\n",
       "<table border=\"1\" class=\"dataframe\">\n",
       "  <thead>\n",
       "    <tr style=\"text-align: right;\">\n",
       "      <th></th>\n",
       "      <th>params_c_weights</th>\n",
       "      <th>params_max_iter</th>\n",
       "      <th>params_solver</th>\n",
       "      <th>value</th>\n",
       "    </tr>\n",
       "  </thead>\n",
       "  <tbody>\n",
       "    <tr>\n",
       "      <th>7</th>\n",
       "      <td>balanced</td>\n",
       "      <td>542</td>\n",
       "      <td>liblinear</td>\n",
       "      <td>0.688430</td>\n",
       "    </tr>\n",
       "    <tr>\n",
       "      <th>0</th>\n",
       "      <td>balanced</td>\n",
       "      <td>523</td>\n",
       "      <td>lbfgs</td>\n",
       "      <td>0.680663</td>\n",
       "    </tr>\n",
       "    <tr>\n",
       "      <th>22</th>\n",
       "      <td>balanced</td>\n",
       "      <td>742</td>\n",
       "      <td>lbfgs</td>\n",
       "      <td>0.680663</td>\n",
       "    </tr>\n",
       "    <tr>\n",
       "      <th>13</th>\n",
       "      <td>balanced</td>\n",
       "      <td>749</td>\n",
       "      <td>lbfgs</td>\n",
       "      <td>0.680663</td>\n",
       "    </tr>\n",
       "    <tr>\n",
       "      <th>11</th>\n",
       "      <td>balanced</td>\n",
       "      <td>516</td>\n",
       "      <td>lbfgs</td>\n",
       "      <td>0.680663</td>\n",
       "    </tr>\n",
       "  </tbody>\n",
       "</table>\n",
       "</div>"
      ],
      "text/plain": [
       "   params_c_weights  params_max_iter params_solver     value\n",
       "7          balanced              542     liblinear  0.688430\n",
       "0          balanced              523         lbfgs  0.680663\n",
       "22         balanced              742         lbfgs  0.680663\n",
       "13         balanced              749         lbfgs  0.680663\n",
       "11         balanced              516         lbfgs  0.680663"
      ]
     },
     "execution_count": 13,
     "metadata": {},
     "output_type": "execute_result"
    }
   ],
   "source": [
    "df = study_logistic . trials_dataframe ( attrs = (\"params\", \"value\") )\n",
    "df . sort_values ( by = \"value\", ascending = False ) . head()"
   ]
  },
  {
   "cell_type": "code",
   "execution_count": 14,
   "metadata": {},
   "outputs": [
    {
     "name": "stdout",
     "output_type": "stream",
     "text": [
      "+-----------------------+\n",
      "|  Logistic Regression  |\n",
      "+-----------------------+\n",
      "| Accuracy : [0.81481481 0.62962963 0.61538462]\n",
      "| Mean : 68.7%\n",
      "| Std  : 9.1%\n",
      "+--- - -\n",
      "+---->  Label NHL  <----+\n",
      "|   Precision : 55.6%   |\n",
      "|   Recall    : 69.0%   |\n",
      "+---->  Label HL   <----+\n",
      "|   Precision : 79.5%   |\n",
      "|   Recall    : 68.6%   |\n",
      "+-----------------------+\n"
     ]
    },
    {
     "data": {
      "image/png": "[encoded data removed]",
      "text/plain": [
       "<Figure size 360x360 with 2 Axes>"
      ]
     },
     "metadata": {
      "needs_background": "light"
     },
     "output_type": "display_data"
    },
    {
     "data": {
      "image/png": "[encoded data removed]",
      "text/plain": [
       "<Figure size 360x360 with 2 Axes>"
      ]
     },
     "metadata": {
      "needs_background": "light"
     },
     "output_type": "display_data"
    }
   ],
   "source": [
    "best_params = study_logistic . best_params\n",
    "\n",
    "clf_logistic = LogisticRegression ( \n",
    "                                    penalty = \"l2\" ,\n",
    "                                    class_weight = best_params[\"c_weights\"] ,\n",
    "                                    solver = best_params[\"solver\"] ,\n",
    "                                    max_iter = best_params[\"max_iter\"] ,\n",
    "                                    multi_class = \"ovr\" ,\n",
    "                                  )\n",
    "\n",
    "scores = cross_val_score ( clf_logistic, X_train, y_train, scoring = \"accuracy\", cv = 3 )\n",
    "y_train_pred = cross_val_predict ( clf_logistic, X_train, y_train, cv = 3 )\n",
    "\n",
    "display_score ( model_name = \"Logistic Regression\", scores = scores )\n",
    "_ = precision_recall_scores ( y_train, y_train_pred, verbose = True, labels = [\"NHL\", \"HL\"], show_conf_matrix = True )"
   ]
  },
  {
   "cell_type": "markdown",
   "metadata": {},
   "source": [
    "### Features ranking"
   ]
  },
  {
   "cell_type": "code",
   "execution_count": 15,
   "metadata": {},
   "outputs": [
    {
     "data": {
      "text/plain": [
       "RFECV(cv=3,\n",
       "      estimator=LogisticRegression(class_weight='balanced', max_iter=542,\n",
       "                                   multi_class='ovr', solver='liblinear'))"
      ]
     },
     "execution_count": 15,
     "metadata": {},
     "output_type": "execute_result"
    }
   ],
   "source": [
    "from sklearn.feature_selection import RFECV\n",
    "\n",
    "selector = RFECV ( clf_logistic, step = 1, cv = 3 )\n",
    "selector . fit ( X_train, y_train )"
   ]
  },
  {
   "cell_type": "code",
   "execution_count": 16,
   "metadata": {},
   "outputs": [
    {
     "name": "stdout",
     "output_type": "stream",
     "text": [
      "+-------------------+\n",
      "|  Ranked Features  |\n",
      "+-------------------+\n",
      "| Rank-08 : age\n",
      "| Rank-16 : SUVmin (SUV)\n",
      "| Rank-01 : SUVmean (SUV)\n",
      "| Rank-07 : MTV (# vx)\n",
      "| Rank-13 : SMTV (mL/Kg) TOT\n",
      "| Rank-09 : CONVENTIONAL_SUVbwmin\n",
      "| Rank-11 : CONVENTIONAL_SUVbwKurtosis\n",
      "| Rank-03 : DISCRETIZED_HISTO_Kurtosis\n",
      "| Rank-06 : SHAPE_Sphericity[onlyFor3DROI])\n",
      "| Rank-15 : GLCM_Correlation\n",
      "| Rank-17 : GLRLM_SRE\n",
      "| Rank-04 : NGLDM_Coarseness\n",
      "| Rank-10 : NGLDM_Busyness\n",
      "| Rank-12 : GLZLM_LZE\n",
      "| Rank-14 : GLZLM_LZLGE\n",
      "| Rank-05 : GLZLM_LZHGE\n",
      "| Rank-02 : GLZLM_ZLNU\n",
      "+--- - -\n"
     ]
    }
   ],
   "source": [
    "ranks = selector . ranking_\n",
    "rank1_feats = np.nonzero ( ranks == 1 ) [0]\n",
    "rank2_feats = np.nonzero ( ranks == 2 ) [0]\n",
    "rank3_feats = np.nonzero ( ranks == 3 ) [0]\n",
    "high_ranked_feats = np.concatenate ( [rank1_feats, rank2_feats, rank3_feats] )\n",
    "\n",
    "print ( \"+-------------------+\" )\n",
    "print ( \"|  Ranked Features  |\" )\n",
    "print ( \"+-------------------+\" )\n",
    "for rnk, feat in zip (ranks, X_cols):\n",
    "  print ( \"| Rank-{:02} : {}\" . format (rnk, feat) )\n",
    "print ( \"+--- - -\" )\n",
    "\n",
    "X_train_hrf = X_train [:,high_ranked_feats]\n",
    "X_test_hrf  = X_test  [:,high_ranked_feats]"
   ]
  },
  {
   "cell_type": "markdown",
   "metadata": {},
   "source": [
    "## Random Forest"
   ]
  },
  {
   "cell_type": "code",
   "execution_count": 17,
   "metadata": {},
   "outputs": [
    {
     "name": "stdout",
     "output_type": "stream",
     "text": [
      "+----------------------------+\n",
      "|  Random Forest Classifier  |\n",
      "+----------------------------+\n",
      "| Accuracy : [0.88888889 0.7037037  0.73076923]\n",
      "| Mean : 77.4%\n",
      "| Std  : 8.2%\n",
      "+--- - -\n",
      "+---->  Label NHL  <----+\n",
      "|   Precision : 64.3%   |\n",
      "|   Recall    : 62.1%   |\n",
      "+---->  Label HL   <----+\n",
      "|   Precision : 78.8%   |\n",
      "|   Recall    : 80.4%   |\n",
      "+-----------------------+\n"
     ]
    },
    {
     "data": {
      "image/png": "[encoded data removed]",
      "text/plain": [
       "<Figure size 360x360 with 2 Axes>"
      ]
     },
     "metadata": {
      "needs_background": "light"
     },
     "output_type": "display_data"
    },
    {
     "data": {
      "image/png": "[encoded data removed]",
      "text/plain": [
       "<Figure size 360x360 with 2 Axes>"
      ]
     },
     "metadata": {
      "needs_background": "light"
     },
     "output_type": "display_data"
    }
   ],
   "source": [
    "from sklearn.ensemble import RandomForestClassifier\n",
    "\n",
    "clf_forest = RandomForestClassifier (\n",
    "                                      n_estimators = 100 ,\n",
    "                                      criterion = \"gini\" ,\n",
    "                                      max_features = \"sqrt\" ,\n",
    "                                      max_leaf_nodes = 10 ,\n",
    "                                      max_depth = 5 ,\n",
    "                                      class_weight = \"balanced\" ,\n",
    "                                    )\n",
    "\n",
    "scores = cross_val_score ( clf_forest, X_train_hrf, y_train, scoring = \"accuracy\", cv = 3 )\n",
    "y_train_pred = cross_val_predict ( clf_forest, X_train_hrf, y_train, cv = 3 )\n",
    "\n",
    "display_score ( model_name = \"Random Forest Classifier\", scores = scores )\n",
    "_ = precision_recall_scores ( y_train, y_train_pred, verbose = True, labels = [\"NHL\", \"HL\"], show_conf_matrix = True )"
   ]
  },
  {
   "cell_type": "markdown",
   "metadata": {},
   "source": [
    "### Automatic hyperparameters tuning"
   ]
  },
  {
   "cell_type": "code",
   "execution_count": 18,
   "metadata": {},
   "outputs": [],
   "source": [
    "def obj_forest (trial):\n",
    "  n_estims  = trial . suggest_int ( \"n_estims\", 50, 500, log = True )\n",
    "  criterion = trial . suggest_categorical ( \"criterion\", [\"gini\", \"entropy\"] )\n",
    "  max_feats = trial . suggest_categorical ( \"max_feats\", [\"sqrt\", \"log2\", None] )\n",
    "  max_leaf  = trial . suggest_int ( \"max_leaf\" , 2, 20 )\n",
    "  max_depth = trial . suggest_int ( \"max_depth\", 1, 10 )\n",
    "  c_weights = trial . suggest_categorical ( \"c_weights\", [\"balanced\", \"balanced_subsample\", None] )\n",
    "\n",
    "  model = RandomForestClassifier ( \n",
    "                                   n_estimators = n_estims ,\n",
    "                                   criterion = criterion   ,\n",
    "                                   max_features = max_feats  ,\n",
    "                                   max_leaf_nodes = max_leaf ,\n",
    "                                   max_depth = max_depth ,\n",
    "                                   class_weight = c_weights ,\n",
    "                                 )\n",
    "  \n",
    "  y_pred  = cross_val_predict ( model, X_train_hrf, y_train, cv = 3 )\n",
    "  precision, recall = precision_recall_scores ( y_train, y_pred )\n",
    "\n",
    "  weights = np.array ( [ ratio_train, 1. ] )\n",
    "  scores  = recall\n",
    "  \n",
    "  return np.sum ( scores / weights ) / np.sum ( 1 / weights )\n",
    "\n",
    "\n",
    "study_forest = optuna_study (\n",
    "                              model_name  = \"clf_forest\"  ,\n",
    "                              storage_dir = \"./storage\" ,\n",
    "                              objective = obj_forest ,\n",
    "                              n_trials  = 50 ,\n",
    "                              direction = \"maximize\" ,\n",
    "                              load_if_exists = False ,\n",
    "                            )"
   ]
  },
  {
   "cell_type": "code",
   "execution_count": 19,
   "metadata": {},
   "outputs": [
    {
     "data": {
      "text/html": [
       "<div>\n",
       "<style scoped>\n",
       "    .dataframe tbody tr th:only-of-type {\n",
       "        vertical-align: middle;\n",
       "    }\n",
       "\n",
       "    .dataframe tbody tr th {\n",
       "        vertical-align: top;\n",
       "    }\n",
       "\n",
       "    .dataframe thead th {\n",
       "        text-align: right;\n",
       "    }\n",
       "</style>\n",
       "<table border=\"1\" class=\"dataframe\">\n",
       "  <thead>\n",
       "    <tr style=\"text-align: right;\">\n",
       "      <th></th>\n",
       "      <th>params_c_weights</th>\n",
       "      <th>params_criterion</th>\n",
       "      <th>params_max_depth</th>\n",
       "      <th>params_max_feats</th>\n",
       "      <th>params_max_leaf</th>\n",
       "      <th>params_n_estims</th>\n",
       "      <th>value</th>\n",
       "    </tr>\n",
       "  </thead>\n",
       "  <tbody>\n",
       "    <tr>\n",
       "      <th>12</th>\n",
       "      <td>balanced</td>\n",
       "      <td>entropy</td>\n",
       "      <td>1</td>\n",
       "      <td>log2</td>\n",
       "      <td>20</td>\n",
       "      <td>115</td>\n",
       "      <td>0.826116</td>\n",
       "    </tr>\n",
       "    <tr>\n",
       "      <th>10</th>\n",
       "      <td>balanced</td>\n",
       "      <td>entropy</td>\n",
       "      <td>1</td>\n",
       "      <td>log2</td>\n",
       "      <td>20</td>\n",
       "      <td>86</td>\n",
       "      <td>0.819008</td>\n",
       "    </tr>\n",
       "    <tr>\n",
       "      <th>42</th>\n",
       "      <td>balanced</td>\n",
       "      <td>gini</td>\n",
       "      <td>1</td>\n",
       "      <td>log2</td>\n",
       "      <td>19</td>\n",
       "      <td>78</td>\n",
       "      <td>0.804133</td>\n",
       "    </tr>\n",
       "    <tr>\n",
       "      <th>41</th>\n",
       "      <td>balanced</td>\n",
       "      <td>gini</td>\n",
       "      <td>1</td>\n",
       "      <td>log2</td>\n",
       "      <td>19</td>\n",
       "      <td>73</td>\n",
       "      <td>0.804133</td>\n",
       "    </tr>\n",
       "    <tr>\n",
       "      <th>7</th>\n",
       "      <td>balanced</td>\n",
       "      <td>gini</td>\n",
       "      <td>2</td>\n",
       "      <td>log2</td>\n",
       "      <td>20</td>\n",
       "      <td>74</td>\n",
       "      <td>0.804133</td>\n",
       "    </tr>\n",
       "  </tbody>\n",
       "</table>\n",
       "</div>"
      ],
      "text/plain": [
       "   params_c_weights params_criterion  params_max_depth params_max_feats  \\\n",
       "12         balanced          entropy                 1             log2   \n",
       "10         balanced          entropy                 1             log2   \n",
       "42         balanced             gini                 1             log2   \n",
       "41         balanced             gini                 1             log2   \n",
       "7          balanced             gini                 2             log2   \n",
       "\n",
       "    params_max_leaf  params_n_estims     value  \n",
       "12               20              115  0.826116  \n",
       "10               20               86  0.819008  \n",
       "42               19               78  0.804133  \n",
       "41               19               73  0.804133  \n",
       "7                20               74  0.804133  "
      ]
     },
     "execution_count": 19,
     "metadata": {},
     "output_type": "execute_result"
    }
   ],
   "source": [
    "df = study_forest . trials_dataframe ( attrs = (\"params\", \"value\") )\n",
    "df . sort_values ( by = \"value\", ascending = False ) . head()"
   ]
  },
  {
   "cell_type": "code",
   "execution_count": 20,
   "metadata": {},
   "outputs": [
    {
     "name": "stdout",
     "output_type": "stream",
     "text": [
      "+----------------------------+\n",
      "|  Random Forest Classifier  |\n",
      "+----------------------------+\n",
      "| Accuracy : [0.92592593 0.77777778 0.69230769]\n",
      "| Mean : 79.9%\n",
      "| Std  : 9.7%\n",
      "+--- - -\n",
      "+---->  Label NHL  <----+\n",
      "|   Precision : 66.7%   |\n",
      "|   Recall    : 75.9%   |\n",
      "+---->  Label HL   <----+\n",
      "|   Precision : 85.1%   |\n",
      "|   Recall    : 78.4%   |\n",
      "+-----------------------+\n"
     ]
    },
    {
     "data": {
      "image/png": "[encoded data removed]",
      "text/plain": [
       "<Figure size 360x360 with 2 Axes>"
      ]
     },
     "metadata": {
      "needs_background": "light"
     },
     "output_type": "display_data"
    },
    {
     "data": {
      "image/png": "[encoded data removed]",
      "text/plain": [
       "<Figure size 360x360 with 2 Axes>"
      ]
     },
     "metadata": {
      "needs_background": "light"
     },
     "output_type": "display_data"
    }
   ],
   "source": [
    "best_params = study_forest . best_params\n",
    "\n",
    "clf_forest = RandomForestClassifier (\n",
    "                                      n_estimators = best_params[\"n_estims\"] ,\n",
    "                                      criterion = best_params[\"criterion\"]   ,\n",
    "                                      max_features = best_params[\"max_feats\"]  ,\n",
    "                                      max_leaf_nodes = best_params[\"max_leaf\"] ,\n",
    "                                      max_depth = best_params[\"max_depth\"] ,\n",
    "                                      class_weight = best_params[\"c_weights\"] ,\n",
    "                                    )\n",
    "\n",
    "scores = cross_val_score ( clf_forest, X_train_hrf, y_train, scoring = \"accuracy\", cv = 3 )\n",
    "y_train_pred = cross_val_predict ( clf_forest, X_train, y_train, cv = 3 )\n",
    "\n",
    "display_score ( model_name = \"Random Forest Classifier\", scores = scores )\n",
    "_ = precision_recall_scores ( y_train, y_train_pred, verbose = True, labels = [\"NHL\", \"HL\"], show_conf_matrix = True )"
   ]
  },
  {
   "cell_type": "markdown",
   "metadata": {},
   "source": [
    "## Gradient Boosted Decision Trees"
   ]
  },
  {
   "cell_type": "code",
   "execution_count": 21,
   "metadata": {},
   "outputs": [
    {
     "name": "stdout",
     "output_type": "stream",
     "text": [
      "+-------------------+\n",
      "|  GBDT Classifier  |\n",
      "+-------------------+\n",
      "| Accuracy : [0.74074074 0.74074074 0.61538462]\n",
      "| Mean : 69.9%\n",
      "| Std  : 5.9%\n",
      "+--- - -\n",
      "+---->  Label NHL  <----+\n",
      "|   Precision : 55.2%   |\n",
      "|   Recall    : 55.2%   |\n",
      "+---->  Label HL   <----+\n",
      "|   Precision : 74.5%   |\n",
      "|   Recall    : 74.5%   |\n",
      "+-----------------------+\n"
     ]
    },
    {
     "data": {
      "image/png": "[encoded data removed]",
      "text/plain": [
       "<Figure size 360x360 with 2 Axes>"
      ]
     },
     "metadata": {
      "needs_background": "light"
     },
     "output_type": "display_data"
    },
    {
     "data": {
      "image/png": "[encoded data removed]",
      "text/plain": [
       "<Figure size 360x360 with 2 Axes>"
      ]
     },
     "metadata": {
      "needs_background": "light"
     },
     "output_type": "display_data"
    }
   ],
   "source": [
    "from sklearn.ensemble import GradientBoostingClassifier\n",
    "\n",
    "clf_gbdt = GradientBoostingClassifier (\n",
    "                                        loss = \"deviance\" ,\n",
    "                                        learning_rate = 0.3 ,\n",
    "                                        n_estimators  = 100 ,\n",
    "                                        criterion = \"friedman_mse\" ,\n",
    "                                        max_features  = None , \n",
    "                                        max_leaf_nodes = 10 ,\n",
    "                                        max_depth = 5       ,\n",
    "                                      )\n",
    "\n",
    "scores = cross_val_score ( clf_gbdt, X_train_hrf, y_train, scoring = \"accuracy\", cv = 3 )\n",
    "y_train_pred = cross_val_predict ( clf_gbdt, X_train, y_train, cv = 3 )\n",
    "\n",
    "display_score ( model_name = \"GBDT Classifier\", scores = scores )\n",
    "_ = precision_recall_scores ( y_train, y_train_pred, verbose = True, labels = [\"NHL\", \"HL\"], show_conf_matrix = True )"
   ]
  },
  {
   "cell_type": "markdown",
   "metadata": {},
   "source": [
    "### Automatic hyperparameters tuning"
   ]
  },
  {
   "cell_type": "code",
   "execution_count": 22,
   "metadata": {},
   "outputs": [],
   "source": [
    "def obj_gbdt (trial):\n",
    "  loss = trial . suggest_categorical ( \"loss\", [\"deviance\", \"exponential\"] )\n",
    "  lr   = trial . suggest_float ( \"lr\", 0.05, 0.95, log = True )\n",
    "  n_estims  = trial . suggest_int ( \"n_estims\", 50, 500, log = True )\n",
    "  criterion = trial . suggest_categorical ( \"criterion\", [\"friedman_mse\", \"mse\"] )\n",
    "  max_feats = trial . suggest_categorical ( \"max_feats\", [\"sqrt\", \"log2\", None] )\n",
    "  max_leaf  = trial . suggest_int ( \"max_leaf\" , 2, 20 )\n",
    "  max_depth = trial . suggest_int ( \"max_depth\", 1, 10 )\n",
    "\n",
    "  model = GradientBoostingClassifier ( \n",
    "                                       loss = loss ,\n",
    "                                       learning_rate =  lr , \n",
    "                                       n_estimators  =  n_estims , \n",
    "                                       criterion  =  criterion   ,\n",
    "                                       max_features  = max_feats , \n",
    "                                       max_leaf_nodes = max_leaf ,\n",
    "                                       max_depth = max_depth ,\n",
    "                                     )\n",
    "  \n",
    "  y_pred  = cross_val_predict ( model, X_train_hrf, y_train, cv = 3 )\n",
    "  precision, recall = precision_recall_scores ( y_train, y_pred )\n",
    "\n",
    "  weights = np.array ( [ ratio_train, 1. ] )\n",
    "  scores  = recall\n",
    "  \n",
    "  return np.sum ( scores / weights ) / np.sum ( 1 / weights )\n",
    "\n",
    "\n",
    "study_gbdt = optuna_study (\n",
    "                          model_name  = \"clf_gbdt\"  ,\n",
    "                          storage_dir = \"./storage\" ,\n",
    "                          objective = obj_gbdt ,\n",
    "                          n_trials  = 50 ,\n",
    "                          direction = \"maximize\" ,\n",
    "                          load_if_exists = False ,\n",
    "                        )"
   ]
  },
  {
   "cell_type": "code",
   "execution_count": 23,
   "metadata": {},
   "outputs": [
    {
     "data": {
      "text/html": [
       "<div>\n",
       "<style scoped>\n",
       "    .dataframe tbody tr th:only-of-type {\n",
       "        vertical-align: middle;\n",
       "    }\n",
       "\n",
       "    .dataframe tbody tr th {\n",
       "        vertical-align: top;\n",
       "    }\n",
       "\n",
       "    .dataframe thead th {\n",
       "        text-align: right;\n",
       "    }\n",
       "</style>\n",
       "<table border=\"1\" class=\"dataframe\">\n",
       "  <thead>\n",
       "    <tr style=\"text-align: right;\">\n",
       "      <th></th>\n",
       "      <th>params_criterion</th>\n",
       "      <th>params_loss</th>\n",
       "      <th>params_lr</th>\n",
       "      <th>params_max_depth</th>\n",
       "      <th>params_max_feats</th>\n",
       "      <th>params_max_leaf</th>\n",
       "      <th>params_n_estims</th>\n",
       "      <th>value</th>\n",
       "    </tr>\n",
       "  </thead>\n",
       "  <tbody>\n",
       "    <tr>\n",
       "      <th>49</th>\n",
       "      <td>friedman_mse</td>\n",
       "      <td>deviance</td>\n",
       "      <td>0.126466</td>\n",
       "      <td>9</td>\n",
       "      <td>None</td>\n",
       "      <td>17</td>\n",
       "      <td>343</td>\n",
       "      <td>0.723969</td>\n",
       "    </tr>\n",
       "    <tr>\n",
       "      <th>28</th>\n",
       "      <td>mse</td>\n",
       "      <td>exponential</td>\n",
       "      <td>0.188837</td>\n",
       "      <td>9</td>\n",
       "      <td>None</td>\n",
       "      <td>19</td>\n",
       "      <td>269</td>\n",
       "      <td>0.723969</td>\n",
       "    </tr>\n",
       "    <tr>\n",
       "      <th>12</th>\n",
       "      <td>mse</td>\n",
       "      <td>exponential</td>\n",
       "      <td>0.302788</td>\n",
       "      <td>10</td>\n",
       "      <td>None</td>\n",
       "      <td>15</td>\n",
       "      <td>483</td>\n",
       "      <td>0.723969</td>\n",
       "    </tr>\n",
       "    <tr>\n",
       "      <th>47</th>\n",
       "      <td>friedman_mse</td>\n",
       "      <td>deviance</td>\n",
       "      <td>0.128794</td>\n",
       "      <td>9</td>\n",
       "      <td>None</td>\n",
       "      <td>17</td>\n",
       "      <td>345</td>\n",
       "      <td>0.716861</td>\n",
       "    </tr>\n",
       "    <tr>\n",
       "      <th>46</th>\n",
       "      <td>mse</td>\n",
       "      <td>deviance</td>\n",
       "      <td>0.122462</td>\n",
       "      <td>9</td>\n",
       "      <td>None</td>\n",
       "      <td>17</td>\n",
       "      <td>349</td>\n",
       "      <td>0.716861</td>\n",
       "    </tr>\n",
       "  </tbody>\n",
       "</table>\n",
       "</div>"
      ],
      "text/plain": [
       "   params_criterion  params_loss  params_lr  params_max_depth  \\\n",
       "49     friedman_mse     deviance   0.126466                 9   \n",
       "28              mse  exponential   0.188837                 9   \n",
       "12              mse  exponential   0.302788                10   \n",
       "47     friedman_mse     deviance   0.128794                 9   \n",
       "46              mse     deviance   0.122462                 9   \n",
       "\n",
       "   params_max_feats  params_max_leaf  params_n_estims     value  \n",
       "49             None               17              343  0.723969  \n",
       "28             None               19              269  0.723969  \n",
       "12             None               15              483  0.723969  \n",
       "47             None               17              345  0.716861  \n",
       "46             None               17              349  0.716861  "
      ]
     },
     "execution_count": 23,
     "metadata": {},
     "output_type": "execute_result"
    }
   ],
   "source": [
    "df = study_gbdt . trials_dataframe ( attrs = (\"params\", \"value\") )\n",
    "df . sort_values ( by = \"value\", ascending = False ) . head()"
   ]
  },
  {
   "cell_type": "code",
   "execution_count": 24,
   "metadata": {},
   "outputs": [
    {
     "name": "stdout",
     "output_type": "stream",
     "text": [
      "+-------------------+\n",
      "|  GBDT Classifier  |\n",
      "+-------------------+\n",
      "| Accuracy : [0.77777778 0.66666667 0.69230769]\n",
      "| Mean : 71.2%\n",
      "| Std  : 4.8%\n",
      "+--- - -\n",
      "+---->  Label NHL  <----+\n",
      "|   Precision : 56.7%   |\n",
      "|   Recall    : 58.6%   |\n",
      "+---->  Label HL   <----+\n",
      "|   Precision : 76.0%   |\n",
      "|   Recall    : 74.5%   |\n",
      "+-----------------------+\n"
     ]
    },
    {
     "data": {
      "image/png": "[encoded data removed]",
      "text/plain": [
       "<Figure size 360x360 with 2 Axes>"
      ]
     },
     "metadata": {
      "needs_background": "light"
     },
     "output_type": "display_data"
    },
    {
     "data": {
      "image/png": "[encoded data removed]",
      "text/plain": [
       "<Figure size 360x360 with 2 Axes>"
      ]
     },
     "metadata": {
      "needs_background": "light"
     },
     "output_type": "display_data"
    }
   ],
   "source": [
    "best_params = study_gbdt . best_params\n",
    "\n",
    "clf_gbdt = GradientBoostingClassifier (\n",
    "                                        loss = best_params[\"loss\"] ,\n",
    "                                        learning_rate = best_params[\"lr\"] ,\n",
    "                                        n_estimators  = best_params[\"n_estims\"]  ,\n",
    "                                        criterion  =  best_params[\"criterion\"]   ,\n",
    "                                        max_features  = best_params[\"max_feats\"] ,\n",
    "                                        max_leaf_nodes = best_params[\"max_leaf\"] ,\n",
    "                                        max_depth = best_params[\"max_depth\"] ,\n",
    "                                      )\n",
    "\n",
    "scores = cross_val_score ( clf_gbdt, X_train_hrf, y_train, scoring = \"accuracy\", cv = 3 )\n",
    "y_train_pred = cross_val_predict ( clf_gbdt, X_train, y_train, cv = 3 )\n",
    "\n",
    "display_score ( model_name = \"GBDT Classifier\", scores = scores )\n",
    "_ = precision_recall_scores ( y_train, y_train_pred, verbose = True, labels = [\"NHL\", \"HL\"], show_conf_matrix = True )"
   ]
  },
  {
   "cell_type": "markdown",
   "metadata": {},
   "source": [
    "## Models combination"
   ]
  },
  {
   "cell_type": "code",
   "execution_count": 25,
   "metadata": {},
   "outputs": [
    {
     "name": "stdout",
     "output_type": "stream",
     "text": [
      "+----------------------+\n",
      "|  Models combination  |\n",
      "+----------------------+\n",
      "| Accuracy : [0.92592593 0.77777778 0.73076923]\n",
      "| Mean : 81.1%\n",
      "| Std  : 8.3%\n",
      "+--- - -\n",
      "+---->  Label NHL  <----+\n",
      "|   Precision : 71.9%   |\n",
      "|   Recall    : 79.3%   |\n",
      "+---->  Label HL   <----+\n",
      "|   Precision : 87.5%   |\n",
      "|   Recall    : 82.4%   |\n",
      "+-----------------------+\n"
     ]
    },
    {
     "data": {
      "image/png": "[encoded data removed]",
      "text/plain": [
       "<Figure size 360x360 with 2 Axes>"
      ]
     },
     "metadata": {
      "needs_background": "light"
     },
     "output_type": "display_data"
    },
    {
     "data": {
      "image/png": "[encoded data removed]",
      "text/plain": [
       "<Figure size 360x360 with 2 Axes>"
      ]
     },
     "metadata": {
      "needs_background": "light"
     },
     "output_type": "display_data"
    }
   ],
   "source": [
    "from sklearn.ensemble import VotingClassifier\n",
    "\n",
    "clf_ens = VotingClassifier (\n",
    "                             estimators = [ (\"logistic\", clf_logistic), (\"forest\", clf_forest), (\"GBDT\", clf_gbdt) ],\n",
    "                             voting = \"hard\"\n",
    "                           )\n",
    "\n",
    "scores = cross_val_score ( clf_ens, X_train_hrf, y_train, scoring = \"accuracy\", cv = 3 )\n",
    "y_train_pred = cross_val_predict ( clf_ens, X_train_hrf, y_train, cv = 3 )\n",
    "\n",
    "display_score ( model_name = \"Models combination\", scores = scores )\n",
    "_ = precision_recall_scores ( y_train, y_train_pred, verbose = True, labels = [\"NHL\", \"HL\"], show_conf_matrix = True )"
   ]
  },
  {
   "cell_type": "markdown",
   "metadata": {},
   "source": [
    "## Model evaluation"
   ]
  },
  {
   "cell_type": "code",
   "execution_count": 26,
   "metadata": {},
   "outputs": [
    {
     "name": "stdout",
     "output_type": "stream",
     "text": [
      "+---->  Label NHL  <----+\n",
      "|   Precision : 83.3%   |\n",
      "|   Recall    : 71.4%   |\n",
      "+---->  Label HL   <----+\n",
      "|   Precision : 86.7%   |\n",
      "|   Recall    : 92.9%   |\n",
      "+-----------------------+\n"
     ]
    },
    {
     "data": {
      "image/png": "[encoded data removed]",
      "text/plain": [
       "<Figure size 360x360 with 2 Axes>"
      ]
     },
     "metadata": {
      "needs_background": "light"
     },
     "output_type": "display_data"
    },
    {
     "data": {
      "image/png": "[encoded data removed]",
      "text/plain": [
       "<Figure size 360x360 with 2 Axes>"
      ]
     },
     "metadata": {
      "needs_background": "light"
     },
     "output_type": "display_data"
    }
   ],
   "source": [
    "model = clf_ens . fit ( X_train_hrf, y_train )\n",
    "\n",
    "y_test_pred = model . predict ( X_test_hrf )\n",
    "\n",
    "_ = precision_recall_scores ( y_test, y_test_pred, verbose = True, labels = [\"NHL\", \"HL\"], show_conf_matrix = True )"
   ]
  },
  {
   "cell_type": "markdown",
   "metadata": {},
   "source": [
    "## Model export"
   ]
  },
  {
   "cell_type": "code",
   "execution_count": 27,
   "metadata": {},
   "outputs": [],
   "source": [
    "model_dir = \"./models\"\n",
    "exp_model_file = \"binary_classifier_v1.pkl\"\n",
    "exp_model_path = os.path.join ( model_dir, exp_model_file )\n",
    "\n",
    "pickle . dump ( model, open ( exp_model_path, \"wb\" ) )"
   ]
  }
 ],
 "metadata": {
  "interpreter": {
   "hash": "9cb8e2032001cc7bc8687ef8cc831c2b5bbaf47009bbc83f8561bace135c660d"
  },
  "kernelspec": {
   "display_name": "Python 3.9.7 64-bit ('aimn': conda)",
   "name": "python3"
  },
  "language_info": {
   "codemirror_mode": {
    "name": "ipython",
    "version": 3
   },
   "file_extension": ".py",
   "mimetype": "text/x-python",
   "name": "python",
   "nbconvert_exporter": "python",
   "pygments_lexer": "ipython3",
   "version": "3.9.7"
  },
  "orig_nbformat": 4
 },
 "nbformat": 4,
 "nbformat_minor": 2
}
