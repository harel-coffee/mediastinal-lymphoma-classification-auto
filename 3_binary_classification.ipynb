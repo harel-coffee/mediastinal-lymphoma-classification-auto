{
 "cells": [
  {
   "cell_type": "markdown",
   "metadata": {},
   "source": [
    "[![Open In Colab](https://colab.research.google.com/assets/colab-badge.svg)](https://colab.research.google.com/github/mbarbetti/lymphoma-classification/blob/master/3_binary_classification.ipynb)\n",
    "\n",
    "# Binary classification"
   ]
  },
  {
   "cell_type": "markdown",
   "metadata": {},
   "source": [
    "## Data loading and preparation"
   ]
  },
  {
   "cell_type": "code",
   "execution_count": 1,
   "metadata": {},
   "outputs": [
    {
     "name": "stdout",
     "output_type": "stream",
     "text": [
      "<class 'pandas.core.frame.DataFrame'>\n",
      "Int64Index: 119 entries, 0 to 118\n",
      "Data columns (total 19 columns):\n",
      " #   Column                           Non-Null Count  Dtype  \n",
      "---  ------                           --------------  -----  \n",
      " 0   ID                               119 non-null    float64\n",
      " 1   lymphoma_type                    119 non-null    float64\n",
      " 2   age                              111 non-null    float64\n",
      " 3   SUVmin (SUV)                     111 non-null    float64\n",
      " 4   SUVmean (SUV)                    111 non-null    float64\n",
      " 5   MTV (# vx)                       111 non-null    float64\n",
      " 6   SMTV (mL/Kg) TOT                 111 non-null    float64\n",
      " 7   CONVENTIONAL_SUVbwmin            115 non-null    float64\n",
      " 8   CONVENTIONAL_SUVbwKurtosis       115 non-null    float64\n",
      " 9   DISCRETIZED_HISTO_Kurtosis       110 non-null    float64\n",
      " 10  SHAPE_Sphericity[onlyFor3DROI])  113 non-null    float64\n",
      " 11  GLCM_Correlation                 113 non-null    float64\n",
      " 12  GLRLM_SRE                        113 non-null    float64\n",
      " 13  NGLDM_Coarseness                 113 non-null    float64\n",
      " 14  NGLDM_Busyness                   113 non-null    float64\n",
      " 15  GLZLM_LZE                        113 non-null    float64\n",
      " 16  GLZLM_LZLGE                      113 non-null    float64\n",
      " 17  GLZLM_LZHGE                      113 non-null    float64\n",
      " 18  GLZLM_ZLNU                       113 non-null    float64\n",
      "dtypes: float64(19)\n",
      "memory usage: 18.6 KB\n"
     ]
    }
   ],
   "source": [
    "import numpy as np\n",
    "import pandas as pd\n",
    "\n",
    "import os\n",
    "import pickle\n",
    "\n",
    "data_dir  = \"./data\"\n",
    "data_file = \"db_mediastinalbulky_v2-reduced.pkl\" \n",
    "file_path = os.path.join ( data_dir, data_file )\n",
    "\n",
    "with open (file_path, \"rb\") as file:\n",
    "  data = pickle.load (file)\n",
    "\n",
    "data . info()"
   ]
  },
  {
   "cell_type": "markdown",
   "metadata": {},
   "source": [
    "### Aggressive data cleaning "
   ]
  },
  {
   "cell_type": "code",
   "execution_count": 2,
   "metadata": {},
   "outputs": [
    {
     "name": "stdout",
     "output_type": "stream",
     "text": [
      "<class 'pandas.core.frame.DataFrame'>\n",
      "Int64Index: 101 entries, 0 to 118\n",
      "Data columns (total 19 columns):\n",
      " #   Column                           Non-Null Count  Dtype  \n",
      "---  ------                           --------------  -----  \n",
      " 0   ID                               101 non-null    float64\n",
      " 1   lymphoma_type                    101 non-null    float64\n",
      " 2   age                              101 non-null    float64\n",
      " 3   SUVmin (SUV)                     101 non-null    float64\n",
      " 4   SUVmean (SUV)                    101 non-null    float64\n",
      " 5   MTV (# vx)                       101 non-null    float64\n",
      " 6   SMTV (mL/Kg) TOT                 101 non-null    float64\n",
      " 7   CONVENTIONAL_SUVbwmin            101 non-null    float64\n",
      " 8   CONVENTIONAL_SUVbwKurtosis       101 non-null    float64\n",
      " 9   DISCRETIZED_HISTO_Kurtosis       101 non-null    float64\n",
      " 10  SHAPE_Sphericity[onlyFor3DROI])  101 non-null    float64\n",
      " 11  GLCM_Correlation                 101 non-null    float64\n",
      " 12  GLRLM_SRE                        101 non-null    float64\n",
      " 13  NGLDM_Coarseness                 101 non-null    float64\n",
      " 14  NGLDM_Busyness                   101 non-null    float64\n",
      " 15  GLZLM_LZE                        101 non-null    float64\n",
      " 16  GLZLM_LZLGE                      101 non-null    float64\n",
      " 17  GLZLM_LZHGE                      101 non-null    float64\n",
      " 18  GLZLM_ZLNU                       101 non-null    float64\n",
      "dtypes: float64(19)\n",
      "memory usage: 15.8 KB\n"
     ]
    }
   ],
   "source": [
    "data . dropna ( inplace = True )\n",
    "data . info()"
   ]
  },
  {
   "cell_type": "markdown",
   "metadata": {},
   "source": [
    "### Splitting into train-set and test-set"
   ]
  },
  {
   "cell_type": "code",
   "execution_count": 3,
   "metadata": {},
   "outputs": [
    {
     "name": "stdout",
     "output_type": "stream",
     "text": [
      "NHL-HL ratio on data-set : 55.4%\n"
     ]
    }
   ],
   "source": [
    "cols = list ( data.columns )\n",
    "X_cols = cols[2:]\n",
    "y_cols = \"lymphoma_type\"\n",
    "\n",
    "X = data[X_cols] . to_numpy()\n",
    "y = data[y_cols] . to_numpy() . flatten()\n",
    "y = ( y == 1 )   # Hodgkin/non-Hodgkin classification\n",
    "\n",
    "ratio = len(y[y == False]) / len(y[y == True])\n",
    "print ( \"NHL-HL ratio on data-set : {:.1f}%\" . format (100 * ratio) )"
   ]
  },
  {
   "cell_type": "code",
   "execution_count": 4,
   "metadata": {},
   "outputs": [
    {
     "name": "stdout",
     "output_type": "stream",
     "text": [
      "NHL-HL ratio on train-set : 53.8%\n",
      "NHL-HL ratio on test-set  : 61.5%\n"
     ]
    }
   ],
   "source": [
    "from sklearn.model_selection import train_test_split\n",
    "\n",
    "X_train, X_test, y_train, y_test = train_test_split ( X, y, test_size = 0.2, random_state = 42 )\n",
    "\n",
    "### Train-set\n",
    "ratio_train = len(y_train[y_train == False]) / len(y_train[y_train == True])\n",
    "print ( \"NHL-HL ratio on train-set : {:.1f}%\" . format (100 * ratio_train) )\n",
    "\n",
    "### Test-set\n",
    "ratio_test = len(y_test[y_test == False]) / len(y_test[y_test == True])\n",
    "print ( \"NHL-HL ratio on test-set  : {:.1f}%\" . format (100 * ratio_test) )"
   ]
  },
  {
   "cell_type": "code",
   "execution_count": 5,
   "metadata": {},
   "outputs": [
    {
     "name": "stdout",
     "output_type": "stream",
     "text": [
      "NHL-HL ratio on train-set : 56.9%\n",
      "NHL-HL ratio on test-set  : 50.0%\n"
     ]
    }
   ],
   "source": [
    "from sklearn.model_selection import StratifiedShuffleSplit\n",
    "\n",
    "sss = StratifiedShuffleSplit ( n_splits = 1, test_size = 0.2, random_state = 42 )\n",
    "for idx_train, idx_test in sss . split ( X, y ):\n",
    "  X_train , y_train = X[idx_train] , y[idx_train]\n",
    "  X_test  , y_test  = X[idx_test]  , y[idx_test]\n",
    "\n",
    "### Train-set\n",
    "ratio_train = len(y_train[y_train == False]) / len(y_train[y_train == True])\n",
    "print ( \"NHL-HL ratio on train-set : {:.1f}%\" . format (100 * ratio_train) )\n",
    "\n",
    "### Test-set\n",
    "ratio_test = len(y_test[y_test == False]) / len(y_test[y_test == True])\n",
    "print ( \"NHL-HL ratio on test-set  : {:.1f}%\" . format (100 * ratio_test) )"
   ]
  },
  {
   "cell_type": "markdown",
   "metadata": {},
   "source": [
    "### Data preprocessing"
   ]
  },
  {
   "cell_type": "code",
   "execution_count": 6,
   "metadata": {},
   "outputs": [
    {
     "data": {
      "text/plain": [
       "array([ 2.27595720e-16,  3.35842465e-16, -2.88657986e-16, -5.55111512e-18,\n",
       "        5.72458747e-18, -1.21361254e-15, -5.62050406e-16,  6.99440506e-16,\n",
       "       -1.11924359e-15,  1.98972783e-15, -5.47062395e-15,  8.95117314e-17,\n",
       "        2.13717932e-16,  6.52256027e-17,  1.30451205e-16, -5.13478149e-17,\n",
       "       -1.13797860e-16])"
      ]
     },
     "execution_count": 6,
     "metadata": {},
     "output_type": "execute_result"
    }
   ],
   "source": [
    "from sklearn.preprocessing import MinMaxScaler, StandardScaler, QuantileTransformer\n",
    "\n",
    "#scaler = MinMaxScaler()\n",
    "scaler = StandardScaler()\n",
    "#scaler = QuantileTransformer (n_quantiles = 50, output_distribution = \"normal\")\n",
    "\n",
    "X_train = scaler . fit_transform ( X_train )\n",
    "X_test  = scaler . transform ( X_test )\n",
    "\n",
    "np.mean ( X_train, axis = 0 )"
   ]
  },
  {
   "cell_type": "markdown",
   "metadata": {},
   "source": [
    "## Dummy Classifier"
   ]
  },
  {
   "cell_type": "code",
   "execution_count": 7,
   "metadata": {},
   "outputs": [
    {
     "name": "stdout",
     "output_type": "stream",
     "text": [
      "+--------------------+\n",
      "|  Dummy Classifier  |\n",
      "+--------------------+\n",
      "| accuracy : [0.48148148 0.59259259 0.5       ]\n",
      "| mean : 52.5%\n",
      "| std  : 4.9%\n",
      "+--- - -\n"
     ]
    }
   ],
   "source": [
    "from utils import DummyClassifier, display_score\n",
    "from sklearn.model_selection import cross_val_score\n",
    "\n",
    "clf_dummy = DummyClassifier()\n",
    "\n",
    "accuracy = cross_val_score ( clf_dummy, X_train, y_train, scoring = \"accuracy\", cv = 3 )\n",
    "display_score ( scores = accuracy, score_name = \"accuracy\", model_name = \"Dummy Classifier\" )"
   ]
  },
  {
   "cell_type": "code",
   "execution_count": 8,
   "metadata": {},
   "outputs": [
    {
     "name": "stdout",
     "output_type": "stream",
     "text": [
      "+---->  Label NHL  <----+\n",
      "|   Precision : 21.2%   |\n",
      "|   Recall    : 24.1%   |\n",
      "+---->  Label HL   <----+\n",
      "|   Precision : 53.2%   |\n",
      "|   Recall    : 49.0%   |\n",
      "+-----------------------+\n"
     ]
    },
    {
     "data": {
      "image/png": "[encoded data removed]",
      "text/plain": [
       "<Figure size 360x360 with 2 Axes>"
      ]
     },
     "metadata": {
      "needs_background": "light"
     },
     "output_type": "display_data"
    },
    {
     "data": {
      "image/png": "[encoded data removed]",
      "text/plain": [
       "<Figure size 360x360 with 2 Axes>"
      ]
     },
     "metadata": {
      "needs_background": "light"
     },
     "output_type": "display_data"
    }
   ],
   "source": [
    "from sklearn.model_selection import cross_val_predict\n",
    "y_train_pred = cross_val_predict ( clf_dummy, X_train, y_train, cv = 3 )\n",
    "\n",
    "from utils import precision_recall_scores\n",
    "_ = precision_recall_scores ( y_train, y_train_pred, verbose = True, labels = [\"NHL\", \"HL\"], show_conf_matrix = True )"
   ]
  },
  {
   "cell_type": "markdown",
   "metadata": {},
   "source": [
    "## Logistic Regression"
   ]
  },
  {
   "cell_type": "code",
   "execution_count": 9,
   "metadata": {},
   "outputs": [
    {
     "name": "stdout",
     "output_type": "stream",
     "text": [
      "+-----------------------+\n",
      "|  Logistic Regression  |\n",
      "+-----------------------+\n",
      "| accuracy : [0.81481481 0.62962963 0.61538462]\n",
      "| mean : 68.7%\n",
      "| std  : 9.1%\n",
      "+--- - -\n",
      "+---->  Label NHL  <----+\n",
      "|   Precision : 55.6%   |\n",
      "|   Recall    : 69.0%   |\n",
      "+---->  Label HL   <----+\n",
      "|   Precision : 79.5%   |\n",
      "|   Recall    : 68.6%   |\n",
      "+-----------------------+\n"
     ]
    },
    {
     "data": {
      "image/png": "[encoded data removed]",
      "text/plain": [
       "<Figure size 360x360 with 2 Axes>"
      ]
     },
     "metadata": {
      "needs_background": "light"
     },
     "output_type": "display_data"
    },
    {
     "data": {
      "image/png": "[encoded data removed]",
      "text/plain": [
       "<Figure size 360x360 with 2 Axes>"
      ]
     },
     "metadata": {
      "needs_background": "light"
     },
     "output_type": "display_data"
    }
   ],
   "source": [
    "from sklearn.linear_model import LogisticRegression\n",
    "\n",
    "clf_logistic = LogisticRegression ( \n",
    "                                    penalty = \"l2\" ,\n",
    "                                    class_weight = \"balanced\" ,\n",
    "                                    solver = \"liblinear\" ,\n",
    "                                    max_iter = 500 ,\n",
    "                                    multi_class = \"ovr\" ,\n",
    "                                  )\n",
    "\n",
    "accuracy = cross_val_score ( clf_logistic, X_train, y_train, scoring = \"accuracy\", cv = 3 )\n",
    "y_train_pred = cross_val_predict ( clf_logistic, X_train, y_train, cv = 3 )\n",
    "\n",
    "display_score ( scores = accuracy, score_name = \"accuracy\", model_name = \"Logistic Regression\" )\n",
    "_ = precision_recall_scores ( y_train, y_train_pred, verbose = True, labels = [\"NHL\", \"HL\"], show_conf_matrix = True )"
   ]
  },
  {
   "cell_type": "markdown",
   "metadata": {},
   "source": [
    "### Automatic hyperparameters tuning"
   ]
  },
  {
   "cell_type": "code",
   "execution_count": 10,
   "metadata": {},
   "outputs": [],
   "source": [
    "import optuna\n",
    "optuna.logging.set_verbosity ( optuna.logging.ERROR )   # silence Optuna during trials study\n",
    "\n",
    "### Return a set of trials studied by Optuna\n",
    "def optuna_study (\n",
    "                   model_name  : str ,\n",
    "                   storage_dir : str ,\n",
    "                   objective   : float ,\n",
    "                   n_trials    : int = 10 ,\n",
    "                   direction : str = \"minimize\"  , \n",
    "                   load_if_exists : bool = False ,\n",
    "                 ):\n",
    "  storage_path = \"{}/{}.db\" . format (storage_dir, model_name)\n",
    "  storage_name = \"sqlite:///{}\" . format (storage_path)  \n",
    "\n",
    "  if load_if_exists:\n",
    "    pass\n",
    "  elif not ( load_if_exists ) and os.path.isfile ( storage_path ):\n",
    "    os.remove ( storage_path )\n",
    "\n",
    "  study = optuna.create_study ( \n",
    "                                study_name = model_name ,\n",
    "                                storage  = storage_name ,\n",
    "                                load_if_exists = load_if_exists ,\n",
    "                                direction = direction\n",
    "                              )\n",
    "\n",
    "  study . optimize ( objective, n_trials = n_trials )\n",
    "\n",
    "  return study"
   ]
  },
  {
   "cell_type": "code",
   "execution_count": 11,
   "metadata": {},
   "outputs": [],
   "source": [
    "def obj_logistic (trial):\n",
    "  c_weights = trial . suggest_categorical ( \"c_weights\" , [None, \"balanced\"] )\n",
    "  solver    = trial . suggest_categorical ( \"solver\", [\"lbfgs\", \"liblinear\"] )\n",
    "  max_iter  = trial . suggest_int ( \"max_iter\", 500, 1000, log = True )\n",
    "\n",
    "  model = LogisticRegression ( \n",
    "                               penalty = \"l2\" ,\n",
    "                               class_weight = c_weights ,\n",
    "                               solver = solver ,\n",
    "                               max_iter = max_iter ,\n",
    "                               multi_class = \"ovr\" ,\n",
    "                             )\n",
    "  \n",
    "  y_pred  = cross_val_predict ( model, X_train, y_train, cv = 3 )\n",
    "  precision, recall = precision_recall_scores ( y_train, y_pred )\n",
    "\n",
    "  weights = np.array ( [ ratio_train, 1. ] )\n",
    "  scores  = recall\n",
    "  \n",
    "  return np.sum ( scores / weights ) / np.sum ( 1 / weights )\n",
    "\n",
    "\n",
    "study_logistic = optuna_study (\n",
    "                                model_name  = \"bin_clf_logistic\"  ,\n",
    "                                storage_dir = \"./storage\" ,\n",
    "                                objective = obj_logistic ,\n",
    "                                n_trials  = 50 ,\n",
    "                                direction = \"maximize\" ,\n",
    "                                load_if_exists = False ,\n",
    "                              )"
   ]
  },
  {
   "cell_type": "code",
   "execution_count": 12,
   "metadata": {},
   "outputs": [
    {
     "data": {
      "text/html": [
       "<div>\n",
       "<style scoped>\n",
       "    .dataframe tbody tr th:only-of-type {\n",
       "        vertical-align: middle;\n",
       "    }\n",
       "\n",
       "    .dataframe tbody tr th {\n",
       "        vertical-align: top;\n",
       "    }\n",
       "\n",
       "    .dataframe thead th {\n",
       "        text-align: right;\n",
       "    }\n",
       "</style>\n",
       "<table border=\"1\" class=\"dataframe\">\n",
       "  <thead>\n",
       "    <tr style=\"text-align: right;\">\n",
       "      <th></th>\n",
       "      <th>params_c_weights</th>\n",
       "      <th>params_max_iter</th>\n",
       "      <th>params_solver</th>\n",
       "      <th>value</th>\n",
       "    </tr>\n",
       "  </thead>\n",
       "  <tbody>\n",
       "    <tr>\n",
       "      <th>0</th>\n",
       "      <td>balanced</td>\n",
       "      <td>795</td>\n",
       "      <td>liblinear</td>\n",
       "      <td>0.68843</td>\n",
       "    </tr>\n",
       "    <tr>\n",
       "      <th>42</th>\n",
       "      <td>balanced</td>\n",
       "      <td>729</td>\n",
       "      <td>liblinear</td>\n",
       "      <td>0.68843</td>\n",
       "    </tr>\n",
       "    <tr>\n",
       "      <th>22</th>\n",
       "      <td>balanced</td>\n",
       "      <td>804</td>\n",
       "      <td>liblinear</td>\n",
       "      <td>0.68843</td>\n",
       "    </tr>\n",
       "    <tr>\n",
       "      <th>21</th>\n",
       "      <td>balanced</td>\n",
       "      <td>737</td>\n",
       "      <td>liblinear</td>\n",
       "      <td>0.68843</td>\n",
       "    </tr>\n",
       "    <tr>\n",
       "      <th>31</th>\n",
       "      <td>balanced</td>\n",
       "      <td>718</td>\n",
       "      <td>liblinear</td>\n",
       "      <td>0.68843</td>\n",
       "    </tr>\n",
       "  </tbody>\n",
       "</table>\n",
       "</div>"
      ],
      "text/plain": [
       "   params_c_weights  params_max_iter params_solver    value\n",
       "0          balanced              795     liblinear  0.68843\n",
       "42         balanced              729     liblinear  0.68843\n",
       "22         balanced              804     liblinear  0.68843\n",
       "21         balanced              737     liblinear  0.68843\n",
       "31         balanced              718     liblinear  0.68843"
      ]
     },
     "execution_count": 12,
     "metadata": {},
     "output_type": "execute_result"
    }
   ],
   "source": [
    "df = study_logistic . trials_dataframe ( attrs = (\"params\", \"value\") )\n",
    "df . sort_values ( by = \"value\", ascending = False ) . head()"
   ]
  },
  {
   "cell_type": "code",
   "execution_count": 13,
   "metadata": {},
   "outputs": [
    {
     "name": "stdout",
     "output_type": "stream",
     "text": [
      "+-----------------------+\n",
      "|  Logistic Regression  |\n",
      "+-----------------------+\n",
      "| accuracy : [0.81481481 0.62962963 0.61538462]\n",
      "| mean : 68.7%\n",
      "| std  : 9.1%\n",
      "+--- - -\n",
      "+---->  Label NHL  <----+\n",
      "|   Precision : 55.6%   |\n",
      "|   Recall    : 69.0%   |\n",
      "+---->  Label HL   <----+\n",
      "|   Precision : 79.5%   |\n",
      "|   Recall    : 68.6%   |\n",
      "+-----------------------+\n"
     ]
    },
    {
     "data": {
      "image/png": "[encoded data removed]",
      "text/plain": [
       "<Figure size 360x360 with 2 Axes>"
      ]
     },
     "metadata": {
      "needs_background": "light"
     },
     "output_type": "display_data"
    },
    {
     "data": {
      "image/png": "[encoded data removed]",
      "text/plain": [
       "<Figure size 360x360 with 2 Axes>"
      ]
     },
     "metadata": {
      "needs_background": "light"
     },
     "output_type": "display_data"
    }
   ],
   "source": [
    "best_params = study_logistic . best_params\n",
    "\n",
    "clf_logistic = LogisticRegression ( \n",
    "                                    penalty = \"l2\" ,\n",
    "                                    class_weight = best_params[\"c_weights\"] ,\n",
    "                                    solver = best_params[\"solver\"] ,\n",
    "                                    max_iter = best_params[\"max_iter\"] ,\n",
    "                                    multi_class = \"ovr\" ,\n",
    "                                  )\n",
    "\n",
    "accuracy = cross_val_score ( clf_logistic, X_train, y_train, scoring = \"accuracy\", cv = 3 )\n",
    "y_train_pred = cross_val_predict ( clf_logistic, X_train, y_train, cv = 3 )\n",
    "\n",
    "display_score ( scores = accuracy, score_name = \"accuracy\", model_name = \"Logistic Regression\" )\n",
    "_ = precision_recall_scores ( y_train, y_train_pred, verbose = True, labels = [\"NHL\", \"HL\"], show_conf_matrix = True )"
   ]
  },
  {
   "cell_type": "markdown",
   "metadata": {},
   "source": [
    "### Features ranking"
   ]
  },
  {
   "cell_type": "code",
   "execution_count": 14,
   "metadata": {},
   "outputs": [
    {
     "data": {
      "text/plain": [
       "RFECV(cv=3,\n",
       "      estimator=LogisticRegression(class_weight='balanced', max_iter=795,\n",
       "                                   multi_class='ovr', solver='liblinear'))"
      ]
     },
     "execution_count": 14,
     "metadata": {},
     "output_type": "execute_result"
    }
   ],
   "source": [
    "from sklearn.feature_selection import RFECV\n",
    "\n",
    "selector = RFECV ( clf_logistic, step = 1, cv = 3 )\n",
    "selector . fit ( X_train, y_train )"
   ]
  },
  {
   "cell_type": "code",
   "execution_count": 15,
   "metadata": {},
   "outputs": [
    {
     "name": "stdout",
     "output_type": "stream",
     "text": [
      "+-------------------+\n",
      "|  Ranked Features  |\n",
      "+-------------------+\n",
      "| Rank-08 : age\n",
      "| Rank-16 : SUVmin (SUV)\n",
      "| Rank-01 : SUVmean (SUV)\n",
      "| Rank-07 : MTV (# vx)\n",
      "| Rank-13 : SMTV (mL/Kg) TOT\n",
      "| Rank-09 : CONVENTIONAL_SUVbwmin\n",
      "| Rank-11 : CONVENTIONAL_SUVbwKurtosis\n",
      "| Rank-03 : DISCRETIZED_HISTO_Kurtosis\n",
      "| Rank-06 : SHAPE_Sphericity[onlyFor3DROI])\n",
      "| Rank-15 : GLCM_Correlation\n",
      "| Rank-17 : GLRLM_SRE\n",
      "| Rank-04 : NGLDM_Coarseness\n",
      "| Rank-10 : NGLDM_Busyness\n",
      "| Rank-12 : GLZLM_LZE\n",
      "| Rank-14 : GLZLM_LZLGE\n",
      "| Rank-05 : GLZLM_LZHGE\n",
      "| Rank-02 : GLZLM_ZLNU\n",
      "+--- - -\n"
     ]
    }
   ],
   "source": [
    "ranks = selector . ranking_\n",
    "rank1_feats = np.nonzero ( ranks == 1 ) [0]\n",
    "rank2_feats = np.nonzero ( ranks == 2 ) [0]\n",
    "rank3_feats = np.nonzero ( ranks == 3 ) [0]\n",
    "high_ranked_feats = np.concatenate ( [rank1_feats, rank2_feats, rank3_feats] )\n",
    "\n",
    "print ( \"+-------------------+\" )\n",
    "print ( \"|  Ranked Features  |\" )\n",
    "print ( \"+-------------------+\" )\n",
    "for rnk, feat in zip (ranks, X_cols):\n",
    "  print ( \"| Rank-{:02} : {}\" . format (rnk, feat) )\n",
    "print ( \"+--- - -\" )\n",
    "\n",
    "X_train_hrf = X_train [:,high_ranked_feats]\n",
    "X_test_hrf  = X_test  [:,high_ranked_feats]"
   ]
  },
  {
   "cell_type": "markdown",
   "metadata": {},
   "source": [
    "## Random Forest"
   ]
  },
  {
   "cell_type": "code",
   "execution_count": 16,
   "metadata": {},
   "outputs": [
    {
     "name": "stdout",
     "output_type": "stream",
     "text": [
      "+----------------------------+\n",
      "|  Random Forest Classifier  |\n",
      "+----------------------------+\n",
      "| accuracy : [0.85185185 0.66666667 0.69230769]\n",
      "| mean : 73.7%\n",
      "| std  : 8.2%\n",
      "+--- - -\n",
      "+---->  Label NHL  <----+\n",
      "|   Precision : 65.5%   |\n",
      "|   Recall    : 65.5%   |\n",
      "+---->  Label HL   <----+\n",
      "|   Precision : 80.4%   |\n",
      "|   Recall    : 80.4%   |\n",
      "+-----------------------+\n"
     ]
    },
    {
     "data": {
      "image/png": "[encoded data removed]",
      "text/plain": [
       "<Figure size 360x360 with 2 Axes>"
      ]
     },
     "metadata": {
      "needs_background": "light"
     },
     "output_type": "display_data"
    },
    {
     "data": {
      "image/png": "[encoded data removed]",
      "text/plain": [
       "<Figure size 360x360 with 2 Axes>"
      ]
     },
     "metadata": {
      "needs_background": "light"
     },
     "output_type": "display_data"
    }
   ],
   "source": [
    "from sklearn.ensemble import RandomForestClassifier\n",
    "\n",
    "clf_forest = RandomForestClassifier (\n",
    "                                      n_estimators = 100 ,\n",
    "                                      criterion = \"gini\" ,\n",
    "                                      max_features = \"sqrt\" ,\n",
    "                                      max_leaf_nodes = 10 ,\n",
    "                                      max_depth = 5 ,\n",
    "                                      class_weight = \"balanced\" ,\n",
    "                                    )\n",
    "\n",
    "accuracy = cross_val_score ( clf_forest, X_train_hrf, y_train, scoring = \"accuracy\", cv = 3 )\n",
    "y_train_pred = cross_val_predict ( clf_forest, X_train_hrf, y_train, cv = 3 )\n",
    "\n",
    "display_score ( scores = accuracy, score_name = \"accuracy\", model_name = \"Random Forest Classifier\" )\n",
    "_ = precision_recall_scores ( y_train, y_train_pred, verbose = True, labels = [\"NHL\", \"HL\"], show_conf_matrix = True )"
   ]
  },
  {
   "cell_type": "markdown",
   "metadata": {},
   "source": [
    "### Automatic hyperparameters tuning"
   ]
  },
  {
   "cell_type": "code",
   "execution_count": 17,
   "metadata": {},
   "outputs": [],
   "source": [
    "def obj_forest (trial):\n",
    "  n_estims  = trial . suggest_int ( \"n_estims\", 50, 500, log = True )\n",
    "  criterion = trial . suggest_categorical ( \"criterion\", [\"gini\", \"entropy\"] )\n",
    "  max_feats = trial . suggest_categorical ( \"max_feats\", [\"sqrt\", \"log2\", None] )\n",
    "  max_leaf  = trial . suggest_int ( \"max_leaf\" , 2, 20 )\n",
    "  max_depth = trial . suggest_int ( \"max_depth\", 1, 10 )\n",
    "  c_weights = trial . suggest_categorical ( \"c_weights\", [\"balanced\", \"balanced_subsample\", None] )\n",
    "\n",
    "  model = RandomForestClassifier ( \n",
    "                                   n_estimators = n_estims ,\n",
    "                                   criterion = criterion   ,\n",
    "                                   max_features = max_feats  ,\n",
    "                                   max_leaf_nodes = max_leaf ,\n",
    "                                   max_depth = max_depth ,\n",
    "                                   class_weight = c_weights ,\n",
    "                                 )\n",
    "  \n",
    "  y_pred  = cross_val_predict ( model, X_train_hrf, y_train, cv = 3 )\n",
    "  precision, recall = precision_recall_scores ( y_train, y_pred )\n",
    "\n",
    "  weights = np.array ( [ ratio_train, 1. ] )\n",
    "  scores  = recall\n",
    "  \n",
    "  return np.sum ( scores / weights ) / np.sum ( 1 / weights )\n",
    "\n",
    "\n",
    "study_forest = optuna_study (\n",
    "                              model_name  = \"bin_clf_forest\"  ,\n",
    "                              storage_dir = \"./storage\" ,\n",
    "                              objective = obj_forest ,\n",
    "                              n_trials  = 50 ,\n",
    "                              direction = \"maximize\" ,\n",
    "                              load_if_exists = False ,\n",
    "                            )"
   ]
  },
  {
   "cell_type": "code",
   "execution_count": 18,
   "metadata": {},
   "outputs": [
    {
     "data": {
      "text/html": [
       "<div>\n",
       "<style scoped>\n",
       "    .dataframe tbody tr th:only-of-type {\n",
       "        vertical-align: middle;\n",
       "    }\n",
       "\n",
       "    .dataframe tbody tr th {\n",
       "        vertical-align: top;\n",
       "    }\n",
       "\n",
       "    .dataframe thead th {\n",
       "        text-align: right;\n",
       "    }\n",
       "</style>\n",
       "<table border=\"1\" class=\"dataframe\">\n",
       "  <thead>\n",
       "    <tr style=\"text-align: right;\">\n",
       "      <th></th>\n",
       "      <th>params_c_weights</th>\n",
       "      <th>params_criterion</th>\n",
       "      <th>params_max_depth</th>\n",
       "      <th>params_max_feats</th>\n",
       "      <th>params_max_leaf</th>\n",
       "      <th>params_n_estims</th>\n",
       "      <th>value</th>\n",
       "    </tr>\n",
       "  </thead>\n",
       "  <tbody>\n",
       "    <tr>\n",
       "      <th>7</th>\n",
       "      <td>balanced</td>\n",
       "      <td>entropy</td>\n",
       "      <td>9</td>\n",
       "      <td>sqrt</td>\n",
       "      <td>3</td>\n",
       "      <td>191</td>\n",
       "      <td>0.826116</td>\n",
       "    </tr>\n",
       "    <tr>\n",
       "      <th>29</th>\n",
       "      <td>None</td>\n",
       "      <td>entropy</td>\n",
       "      <td>10</td>\n",
       "      <td>None</td>\n",
       "      <td>5</td>\n",
       "      <td>263</td>\n",
       "      <td>0.752400</td>\n",
       "    </tr>\n",
       "    <tr>\n",
       "      <th>25</th>\n",
       "      <td>None</td>\n",
       "      <td>entropy</td>\n",
       "      <td>10</td>\n",
       "      <td>None</td>\n",
       "      <td>5</td>\n",
       "      <td>253</td>\n",
       "      <td>0.745292</td>\n",
       "    </tr>\n",
       "    <tr>\n",
       "      <th>43</th>\n",
       "      <td>None</td>\n",
       "      <td>gini</td>\n",
       "      <td>3</td>\n",
       "      <td>None</td>\n",
       "      <td>8</td>\n",
       "      <td>126</td>\n",
       "      <td>0.745292</td>\n",
       "    </tr>\n",
       "    <tr>\n",
       "      <th>39</th>\n",
       "      <td>None</td>\n",
       "      <td>gini</td>\n",
       "      <td>6</td>\n",
       "      <td>None</td>\n",
       "      <td>6</td>\n",
       "      <td>170</td>\n",
       "      <td>0.745292</td>\n",
       "    </tr>\n",
       "  </tbody>\n",
       "</table>\n",
       "</div>"
      ],
      "text/plain": [
       "   params_c_weights params_criterion  params_max_depth params_max_feats  \\\n",
       "7          balanced          entropy                 9             sqrt   \n",
       "29             None          entropy                10             None   \n",
       "25             None          entropy                10             None   \n",
       "43             None             gini                 3             None   \n",
       "39             None             gini                 6             None   \n",
       "\n",
       "    params_max_leaf  params_n_estims     value  \n",
       "7                 3              191  0.826116  \n",
       "29                5              263  0.752400  \n",
       "25                5              253  0.745292  \n",
       "43                8              126  0.745292  \n",
       "39                6              170  0.745292  "
      ]
     },
     "execution_count": 18,
     "metadata": {},
     "output_type": "execute_result"
    }
   ],
   "source": [
    "df = study_forest . trials_dataframe ( attrs = (\"params\", \"value\") )\n",
    "df . sort_values ( by = \"value\", ascending = False ) . head()"
   ]
  },
  {
   "cell_type": "code",
   "execution_count": 19,
   "metadata": {},
   "outputs": [
    {
     "name": "stdout",
     "output_type": "stream",
     "text": [
      "+----------------------------+\n",
      "|  Random Forest Classifier  |\n",
      "+----------------------------+\n",
      "| accuracy : [0.92592593 0.81481481 0.69230769]\n",
      "| mean : 81.1%\n",
      "| std  : 9.5%\n",
      "+--- - -\n",
      "+---->  Label NHL  <----+\n",
      "|   Precision : 64.5%   |\n",
      "|   Recall    : 69.0%   |\n",
      "+---->  Label HL   <----+\n",
      "|   Precision : 81.6%   |\n",
      "|   Recall    : 78.4%   |\n",
      "+-----------------------+\n"
     ]
    },
    {
     "data": {
      "image/png": "[encoded data removed]",
      "text/plain": [
       "<Figure size 360x360 with 2 Axes>"
      ]
     },
     "metadata": {
      "needs_background": "light"
     },
     "output_type": "display_data"
    },
    {
     "data": {
      "image/png": "[encoded data removed]",
      "text/plain": [
       "<Figure size 360x360 with 2 Axes>"
      ]
     },
     "metadata": {
      "needs_background": "light"
     },
     "output_type": "display_data"
    }
   ],
   "source": [
    "best_params = study_forest . best_params\n",
    "\n",
    "clf_forest = RandomForestClassifier (\n",
    "                                      n_estimators = best_params[\"n_estims\"] ,\n",
    "                                      criterion = best_params[\"criterion\"]   ,\n",
    "                                      max_features = best_params[\"max_feats\"]  ,\n",
    "                                      max_leaf_nodes = best_params[\"max_leaf\"] ,\n",
    "                                      max_depth = best_params[\"max_depth\"] ,\n",
    "                                      class_weight = best_params[\"c_weights\"] ,\n",
    "                                    )\n",
    "\n",
    "accuracy = cross_val_score ( clf_forest, X_train_hrf, y_train, scoring = \"accuracy\", cv = 3 )\n",
    "y_train_pred = cross_val_predict ( clf_forest, X_train, y_train, cv = 3 )\n",
    "\n",
    "display_score ( scores = accuracy, score_name = \"accuracy\", model_name = \"Random Forest Classifier\" )\n",
    "_ = precision_recall_scores ( y_train, y_train_pred, verbose = True, labels = [\"NHL\", \"HL\"], show_conf_matrix = True )"
   ]
  },
  {
   "cell_type": "markdown",
   "metadata": {},
   "source": [
    "## Gradient Boosted Decision Trees"
   ]
  },
  {
   "cell_type": "code",
   "execution_count": 20,
   "metadata": {},
   "outputs": [
    {
     "name": "stdout",
     "output_type": "stream",
     "text": [
      "+-------------------+\n",
      "|  GBDT Classifier  |\n",
      "+-------------------+\n",
      "| accuracy : [0.74074074 0.66666667 0.65384615]\n",
      "| mean : 68.7%\n",
      "| std  : 3.8%\n",
      "+--- - -\n",
      "+---->  Label NHL  <----+\n",
      "|   Precision : 55.2%   |\n",
      "|   Recall    : 55.2%   |\n",
      "+---->  Label HL   <----+\n",
      "|   Precision : 74.5%   |\n",
      "|   Recall    : 74.5%   |\n",
      "+-----------------------+\n"
     ]
    },
    {
     "data": {
      "image/png": "[encoded data removed]",
      "text/plain": [
       "<Figure size 360x360 with 2 Axes>"
      ]
     },
     "metadata": {
      "needs_background": "light"
     },
     "output_type": "display_data"
    },
    {
     "data": {
      "image/png": "[encoded data removed]",
      "text/plain": [
       "<Figure size 360x360 with 2 Axes>"
      ]
     },
     "metadata": {
      "needs_background": "light"
     },
     "output_type": "display_data"
    }
   ],
   "source": [
    "from sklearn.ensemble import GradientBoostingClassifier\n",
    "\n",
    "clf_gbdt = GradientBoostingClassifier (\n",
    "                                        loss = \"deviance\" ,\n",
    "                                        learning_rate = 0.3 ,\n",
    "                                        n_estimators  = 100 ,\n",
    "                                        criterion = \"friedman_mse\" ,\n",
    "                                        max_features  = None , \n",
    "                                        max_leaf_nodes = 10 ,\n",
    "                                        max_depth = 5       ,\n",
    "                                      )\n",
    "\n",
    "accuracy = cross_val_score ( clf_gbdt, X_train_hrf, y_train, scoring = \"accuracy\", cv = 3 )\n",
    "y_train_pred = cross_val_predict ( clf_gbdt, X_train, y_train, cv = 3 )\n",
    "\n",
    "display_score ( scores = accuracy, score_name = \"accuracy\", model_name = \"GBDT Classifier\" )\n",
    "_ = precision_recall_scores ( y_train, y_train_pred, verbose = True, labels = [\"NHL\", \"HL\"], show_conf_matrix = True )"
   ]
  },
  {
   "cell_type": "markdown",
   "metadata": {},
   "source": [
    "### Automatic hyperparameters tuning"
   ]
  },
  {
   "cell_type": "code",
   "execution_count": 21,
   "metadata": {},
   "outputs": [],
   "source": [
    "def obj_gbdt (trial):\n",
    "  loss = trial . suggest_categorical ( \"loss\", [\"deviance\", \"exponential\"] )\n",
    "  lr   = trial . suggest_float ( \"lr\", 0.05, 0.95, log = True )\n",
    "  n_estims  = trial . suggest_int ( \"n_estims\", 50, 500, log = True )\n",
    "  criterion = trial . suggest_categorical ( \"criterion\", [\"friedman_mse\", \"mse\"] )\n",
    "  max_feats = trial . suggest_categorical ( \"max_feats\", [\"sqrt\", \"log2\", None] )\n",
    "  max_leaf  = trial . suggest_int ( \"max_leaf\" , 2, 20 )\n",
    "  max_depth = trial . suggest_int ( \"max_depth\", 1, 10 )\n",
    "\n",
    "  model = GradientBoostingClassifier ( \n",
    "                                       loss = loss ,\n",
    "                                       learning_rate =  lr , \n",
    "                                       n_estimators  =  n_estims , \n",
    "                                       criterion  =  criterion   ,\n",
    "                                       max_features  = max_feats , \n",
    "                                       max_leaf_nodes = max_leaf ,\n",
    "                                       max_depth = max_depth ,\n",
    "                                     )\n",
    "  \n",
    "  y_pred  = cross_val_predict ( model, X_train_hrf, y_train, cv = 3 )\n",
    "  precision, recall = precision_recall_scores ( y_train, y_pred )\n",
    "\n",
    "  weights = np.array ( [ ratio_train, 1. ] )\n",
    "  scores  = recall\n",
    "  \n",
    "  return np.sum ( scores / weights ) / np.sum ( 1 / weights )\n",
    "\n",
    "\n",
    "study_gbdt = optuna_study (\n",
    "                          model_name  = \"bin_clf_gbdt\"  ,\n",
    "                          storage_dir = \"./storage\" ,\n",
    "                          objective = obj_gbdt ,\n",
    "                          n_trials  = 50 ,\n",
    "                          direction = \"maximize\" ,\n",
    "                          load_if_exists = False ,\n",
    "                        )"
   ]
  },
  {
   "cell_type": "code",
   "execution_count": 22,
   "metadata": {},
   "outputs": [
    {
     "data": {
      "text/html": [
       "<div>\n",
       "<style scoped>\n",
       "    .dataframe tbody tr th:only-of-type {\n",
       "        vertical-align: middle;\n",
       "    }\n",
       "\n",
       "    .dataframe tbody tr th {\n",
       "        vertical-align: top;\n",
       "    }\n",
       "\n",
       "    .dataframe thead th {\n",
       "        text-align: right;\n",
       "    }\n",
       "</style>\n",
       "<table border=\"1\" class=\"dataframe\">\n",
       "  <thead>\n",
       "    <tr style=\"text-align: right;\">\n",
       "      <th></th>\n",
       "      <th>params_criterion</th>\n",
       "      <th>params_loss</th>\n",
       "      <th>params_lr</th>\n",
       "      <th>params_max_depth</th>\n",
       "      <th>params_max_feats</th>\n",
       "      <th>params_max_leaf</th>\n",
       "      <th>params_n_estims</th>\n",
       "      <th>value</th>\n",
       "    </tr>\n",
       "  </thead>\n",
       "  <tbody>\n",
       "    <tr>\n",
       "      <th>7</th>\n",
       "      <td>mse</td>\n",
       "      <td>deviance</td>\n",
       "      <td>0.298546</td>\n",
       "      <td>10</td>\n",
       "      <td>log2</td>\n",
       "      <td>20</td>\n",
       "      <td>452</td>\n",
       "      <td>0.755037</td>\n",
       "    </tr>\n",
       "    <tr>\n",
       "      <th>3</th>\n",
       "      <td>friedman_mse</td>\n",
       "      <td>deviance</td>\n",
       "      <td>0.878062</td>\n",
       "      <td>5</td>\n",
       "      <td>sqrt</td>\n",
       "      <td>12</td>\n",
       "      <td>107</td>\n",
       "      <td>0.746611</td>\n",
       "    </tr>\n",
       "    <tr>\n",
       "      <th>34</th>\n",
       "      <td>friedman_mse</td>\n",
       "      <td>exponential</td>\n",
       "      <td>0.127120</td>\n",
       "      <td>6</td>\n",
       "      <td>None</td>\n",
       "      <td>19</td>\n",
       "      <td>50</td>\n",
       "      <td>0.738185</td>\n",
       "    </tr>\n",
       "    <tr>\n",
       "      <th>33</th>\n",
       "      <td>friedman_mse</td>\n",
       "      <td>exponential</td>\n",
       "      <td>0.135079</td>\n",
       "      <td>6</td>\n",
       "      <td>None</td>\n",
       "      <td>19</td>\n",
       "      <td>165</td>\n",
       "      <td>0.731077</td>\n",
       "    </tr>\n",
       "    <tr>\n",
       "      <th>18</th>\n",
       "      <td>friedman_mse</td>\n",
       "      <td>deviance</td>\n",
       "      <td>0.295858</td>\n",
       "      <td>5</td>\n",
       "      <td>None</td>\n",
       "      <td>17</td>\n",
       "      <td>117</td>\n",
       "      <td>0.723969</td>\n",
       "    </tr>\n",
       "  </tbody>\n",
       "</table>\n",
       "</div>"
      ],
      "text/plain": [
       "   params_criterion  params_loss  params_lr  params_max_depth  \\\n",
       "7               mse     deviance   0.298546                10   \n",
       "3      friedman_mse     deviance   0.878062                 5   \n",
       "34     friedman_mse  exponential   0.127120                 6   \n",
       "33     friedman_mse  exponential   0.135079                 6   \n",
       "18     friedman_mse     deviance   0.295858                 5   \n",
       "\n",
       "   params_max_feats  params_max_leaf  params_n_estims     value  \n",
       "7              log2               20              452  0.755037  \n",
       "3              sqrt               12              107  0.746611  \n",
       "34             None               19               50  0.738185  \n",
       "33             None               19              165  0.731077  \n",
       "18             None               17              117  0.723969  "
      ]
     },
     "execution_count": 22,
     "metadata": {},
     "output_type": "execute_result"
    }
   ],
   "source": [
    "df = study_gbdt . trials_dataframe ( attrs = (\"params\", \"value\") )\n",
    "df . sort_values ( by = \"value\", ascending = False ) . head()"
   ]
  },
  {
   "cell_type": "code",
   "execution_count": 23,
   "metadata": {},
   "outputs": [
    {
     "name": "stdout",
     "output_type": "stream",
     "text": [
      "+-------------------+\n",
      "|  GBDT Classifier  |\n",
      "+-------------------+\n",
      "| accuracy : [0.77777778 0.66666667 0.65384615]\n",
      "| mean : 69.9%\n",
      "| std  : 5.6%\n",
      "+--- - -\n",
      "+---->  Label NHL  <----+\n",
      "|   Precision : 55.8%   |\n",
      "|   Recall    : 82.8%   |\n",
      "+---->  Label HL   <----+\n",
      "|   Precision : 86.5%   |\n",
      "|   Recall    : 62.7%   |\n",
      "+-----------------------+\n"
     ]
    },
    {
     "data": {
      "image/png": "[encoded data removed]",
      "text/plain": [
       "<Figure size 360x360 with 2 Axes>"
      ]
     },
     "metadata": {
      "needs_background": "light"
     },
     "output_type": "display_data"
    },
    {
     "data": {
      "image/png": "[encoded data removed]",
      "text/plain": [
       "<Figure size 360x360 with 2 Axes>"
      ]
     },
     "metadata": {
      "needs_background": "light"
     },
     "output_type": "display_data"
    }
   ],
   "source": [
    "best_params = study_gbdt . best_params\n",
    "\n",
    "clf_gbdt = GradientBoostingClassifier (\n",
    "                                        loss = best_params[\"loss\"] ,\n",
    "                                        learning_rate = best_params[\"lr\"] ,\n",
    "                                        n_estimators  = best_params[\"n_estims\"]  ,\n",
    "                                        criterion  =  best_params[\"criterion\"]   ,\n",
    "                                        max_features  = best_params[\"max_feats\"] ,\n",
    "                                        max_leaf_nodes = best_params[\"max_leaf\"] ,\n",
    "                                        max_depth = best_params[\"max_depth\"] ,\n",
    "                                      )\n",
    "\n",
    "accuracy = cross_val_score ( clf_gbdt, X_train_hrf, y_train, scoring = \"accuracy\", cv = 3 )\n",
    "y_train_pred = cross_val_predict ( clf_gbdt, X_train, y_train, cv = 3 )\n",
    "\n",
    "display_score ( scores = accuracy, score_name = \"accuracy\", model_name = \"GBDT Classifier\" )\n",
    "_ = precision_recall_scores ( y_train, y_train_pred, verbose = True, labels = [\"NHL\", \"HL\"], show_conf_matrix = True )"
   ]
  },
  {
   "cell_type": "markdown",
   "metadata": {},
   "source": [
    "## Models combination"
   ]
  },
  {
   "cell_type": "code",
   "execution_count": 24,
   "metadata": {},
   "outputs": [
    {
     "name": "stdout",
     "output_type": "stream",
     "text": [
      "+----------------------+\n",
      "|  Models combination  |\n",
      "+----------------------+\n",
      "| accuracy : [0.96296296 0.81481481 0.69230769]\n",
      "| mean : 82.3%\n",
      "| std  : 11.1%\n",
      "+--- - -\n",
      "+---->  Label NHL  <----+\n",
      "|   Precision : 72.7%   |\n",
      "|   Recall    : 82.8%   |\n",
      "+---->  Label HL   <----+\n",
      "|   Precision : 89.4%   |\n",
      "|   Recall    : 82.4%   |\n",
      "+-----------------------+\n"
     ]
    },
    {
     "data": {
      "image/png": "[encoded data removed]",
      "text/plain": [
       "<Figure size 360x360 with 2 Axes>"
      ]
     },
     "metadata": {
      "needs_background": "light"
     },
     "output_type": "display_data"
    },
    {
     "data": {
      "image/png": "[encoded data removed]",
      "text/plain": [
       "<Figure size 360x360 with 2 Axes>"
      ]
     },
     "metadata": {
      "needs_background": "light"
     },
     "output_type": "display_data"
    }
   ],
   "source": [
    "from sklearn.ensemble import VotingClassifier\n",
    "\n",
    "clf_ens = VotingClassifier (\n",
    "                             estimators = [ (\"logistic\", clf_logistic), (\"forest\", clf_forest), (\"GBDT\", clf_gbdt) ],\n",
    "                             voting = \"hard\"\n",
    "                           )\n",
    "\n",
    "accuracy = cross_val_score ( clf_ens, X_train_hrf, y_train, scoring = \"accuracy\", cv = 3 )\n",
    "y_train_pred = cross_val_predict ( clf_ens, X_train_hrf, y_train, cv = 3 )\n",
    "\n",
    "display_score ( scores = accuracy, score_name = \"accuracy\", model_name = \"Models combination\" )\n",
    "_ = precision_recall_scores ( y_train, y_train_pred, verbose = True, labels = [\"NHL\", \"HL\"], show_conf_matrix = True )"
   ]
  },
  {
   "cell_type": "markdown",
   "metadata": {},
   "source": [
    "## Model evaluation"
   ]
  },
  {
   "cell_type": "code",
   "execution_count": 25,
   "metadata": {},
   "outputs": [
    {
     "name": "stdout",
     "output_type": "stream",
     "text": [
      "+---->  Label NHL  <----+\n",
      "|   Precision : 83.3%   |\n",
      "|   Recall    : 71.4%   |\n",
      "+---->  Label HL   <----+\n",
      "|   Precision : 86.7%   |\n",
      "|   Recall    : 92.9%   |\n",
      "+-----------------------+\n"
     ]
    },
    {
     "data": {
      "image/png": "[encoded data removed]",
      "text/plain": [
       "<Figure size 360x360 with 2 Axes>"
      ]
     },
     "metadata": {
      "needs_background": "light"
     },
     "output_type": "display_data"
    },
    {
     "data": {
      "image/png": "[encoded data removed]",
      "text/plain": [
       "<Figure size 360x360 with 2 Axes>"
      ]
     },
     "metadata": {
      "needs_background": "light"
     },
     "output_type": "display_data"
    }
   ],
   "source": [
    "model = clf_ens . fit ( X_train_hrf, y_train )\n",
    "\n",
    "y_test_pred = model . predict ( X_test_hrf )\n",
    "\n",
    "_ = precision_recall_scores ( y_test, y_test_pred, verbose = True, labels = [\"NHL\", \"HL\"], show_conf_matrix = True )"
   ]
  },
  {
   "cell_type": "markdown",
   "metadata": {},
   "source": [
    "## Model export"
   ]
  },
  {
   "cell_type": "code",
   "execution_count": 26,
   "metadata": {},
   "outputs": [],
   "source": [
    "model_dir = \"./models\"\n",
    "exp_model_file = \"binary_classifier_v1.pkl\"\n",
    "exp_model_path = os.path.join ( model_dir, exp_model_file )\n",
    "\n",
    "pickle . dump ( model, open ( exp_model_path, \"wb\" ) )"
   ]
  }
 ],
 "metadata": {
  "interpreter": {
   "hash": "9cb8e2032001cc7bc8687ef8cc831c2b5bbaf47009bbc83f8561bace135c660d"
  },
  "kernelspec": {
   "display_name": "Python 3.9.7 64-bit ('aimn': conda)",
   "name": "python3"
  },
  "language_info": {
   "codemirror_mode": {
    "name": "ipython",
    "version": 3
   },
   "file_extension": ".py",
   "mimetype": "text/x-python",
   "name": "python",
   "nbconvert_exporter": "python",
   "pygments_lexer": "ipython3",
   "version": "3.9.7"
  },
  "orig_nbformat": 4
 },
 "nbformat": 4,
 "nbformat_minor": 2
}
